{
 "cells": [
  {
   "cell_type": "code",
   "execution_count": 17,
   "metadata": {},
   "outputs": [],
   "source": [
    "import numpy as np\n",
    "import pandas as pd\n",
    "import seaborn as sns\n",
    "import matplotlib.pyplot as plt\n",
    "from sklearn.preprocessing import LabelEncoder, OneHotEncoder\n",
    "import warnings\n",
    "warnings.filterwarnings(\"ignore\")\n",
    "from sklearn.model_selection import train_test_split\n",
    "from sklearn.svm import SVC\n",
    "from sklearn.metrics import confusion_matrix\n",
    "np.random.seed(123)"
   ]
  },
  {
   "cell_type": "code",
   "execution_count": 18,
   "metadata": {},
   "outputs": [],
   "source": [
    "data = pd.read_csv(\"added_other_features_final.csv\")\n",
    "data = data.drop(columns=['date','year','getSUBTLWordScores' ],axis=1)"
   ]
  },
  {
   "cell_type": "code",
   "execution_count": 19,
   "metadata": {},
   "outputs": [
    {
     "data": {
      "text/html": [
       "<div>\n",
       "<style scoped>\n",
       "    .dataframe tbody tr th:only-of-type {\n",
       "        vertical-align: middle;\n",
       "    }\n",
       "\n",
       "    .dataframe tbody tr th {\n",
       "        vertical-align: top;\n",
       "    }\n",
       "\n",
       "    .dataframe thead th {\n",
       "        text-align: right;\n",
       "    }\n",
       "</style>\n",
       "<table border=\"1\" class=\"dataframe\">\n",
       "  <thead>\n",
       "    <tr style=\"text-align: right;\">\n",
       "      <th></th>\n",
       "      <th>CC</th>\n",
       "      <th>CD</th>\n",
       "      <th>DT</th>\n",
       "      <th>FW</th>\n",
       "      <th>IN</th>\n",
       "      <th>JJ</th>\n",
       "      <th>MD</th>\n",
       "      <th>NN</th>\n",
       "      <th>NNS</th>\n",
       "      <th>NNP</th>\n",
       "      <th>...</th>\n",
       "      <th>H_S</th>\n",
       "      <th>BM</th>\n",
       "      <th>TTR</th>\n",
       "      <th>SICH</th>\n",
       "      <th>A_R_I</th>\n",
       "      <th>F_K_R</th>\n",
       "      <th>getFamiliarityScore</th>\n",
       "      <th>getConcretenessScore</th>\n",
       "      <th>getImagabilityScore</th>\n",
       "      <th>getAoaScore</th>\n",
       "    </tr>\n",
       "  </thead>\n",
       "  <tbody>\n",
       "    <tr>\n",
       "      <th>0</th>\n",
       "      <td>6</td>\n",
       "      <td>12</td>\n",
       "      <td>240</td>\n",
       "      <td>7</td>\n",
       "      <td>36</td>\n",
       "      <td>345</td>\n",
       "      <td>4</td>\n",
       "      <td>2094</td>\n",
       "      <td>0</td>\n",
       "      <td>506</td>\n",
       "      <td>...</td>\n",
       "      <td>26.654257</td>\n",
       "      <td>14.896320</td>\n",
       "      <td>30.629371</td>\n",
       "      <td>14.611872</td>\n",
       "      <td>5</td>\n",
       "      <td>6</td>\n",
       "      <td>600.909091</td>\n",
       "      <td>300.444444</td>\n",
       "      <td>353.681818</td>\n",
       "      <td>2.699545</td>\n",
       "    </tr>\n",
       "    <tr>\n",
       "      <th>1</th>\n",
       "      <td>51</td>\n",
       "      <td>59</td>\n",
       "      <td>1919</td>\n",
       "      <td>68</td>\n",
       "      <td>369</td>\n",
       "      <td>2887</td>\n",
       "      <td>21</td>\n",
       "      <td>16267</td>\n",
       "      <td>15</td>\n",
       "      <td>3458</td>\n",
       "      <td>...</td>\n",
       "      <td>21.060573</td>\n",
       "      <td>14.960296</td>\n",
       "      <td>20.806962</td>\n",
       "      <td>18.631179</td>\n",
       "      <td>12</td>\n",
       "      <td>18</td>\n",
       "      <td>625.459459</td>\n",
       "      <td>334.202247</td>\n",
       "      <td>356.290541</td>\n",
       "      <td>2.813716</td>\n",
       "    </tr>\n",
       "    <tr>\n",
       "      <th>2</th>\n",
       "      <td>44</td>\n",
       "      <td>58</td>\n",
       "      <td>1330</td>\n",
       "      <td>48</td>\n",
       "      <td>331</td>\n",
       "      <td>1839</td>\n",
       "      <td>25</td>\n",
       "      <td>10869</td>\n",
       "      <td>17</td>\n",
       "      <td>2227</td>\n",
       "      <td>...</td>\n",
       "      <td>22.804109</td>\n",
       "      <td>15.251379</td>\n",
       "      <td>22.356495</td>\n",
       "      <td>15.810811</td>\n",
       "      <td>11</td>\n",
       "      <td>16</td>\n",
       "      <td>621.897436</td>\n",
       "      <td>334.069767</td>\n",
       "      <td>338.217949</td>\n",
       "      <td>2.802949</td>\n",
       "    </tr>\n",
       "    <tr>\n",
       "      <th>3</th>\n",
       "      <td>76</td>\n",
       "      <td>247</td>\n",
       "      <td>1946</td>\n",
       "      <td>44</td>\n",
       "      <td>313</td>\n",
       "      <td>2995</td>\n",
       "      <td>38</td>\n",
       "      <td>16966</td>\n",
       "      <td>21</td>\n",
       "      <td>3744</td>\n",
       "      <td>...</td>\n",
       "      <td>23.002535</td>\n",
       "      <td>14.871957</td>\n",
       "      <td>20.582878</td>\n",
       "      <td>16.017699</td>\n",
       "      <td>7</td>\n",
       "      <td>12</td>\n",
       "      <td>627.807692</td>\n",
       "      <td>332.955224</td>\n",
       "      <td>287.495192</td>\n",
       "      <td>2.847260</td>\n",
       "    </tr>\n",
       "    <tr>\n",
       "      <th>4</th>\n",
       "      <td>31</td>\n",
       "      <td>95</td>\n",
       "      <td>1123</td>\n",
       "      <td>38</td>\n",
       "      <td>158</td>\n",
       "      <td>1647</td>\n",
       "      <td>58</td>\n",
       "      <td>8978</td>\n",
       "      <td>11</td>\n",
       "      <td>2071</td>\n",
       "      <td>...</td>\n",
       "      <td>22.958584</td>\n",
       "      <td>15.722231</td>\n",
       "      <td>21.211150</td>\n",
       "      <td>14.501511</td>\n",
       "      <td>6</td>\n",
       "      <td>8</td>\n",
       "      <td>626.095238</td>\n",
       "      <td>327.437500</td>\n",
       "      <td>315.061224</td>\n",
       "      <td>2.830204</td>\n",
       "    </tr>\n",
       "  </tbody>\n",
       "</table>\n",
       "<p>5 rows × 46 columns</p>\n",
       "</div>"
      ],
      "text/plain": [
       "   CC   CD    DT  FW   IN    JJ  MD     NN  NNS   NNP  ...        H_S  \\\n",
       "0   6   12   240   7   36   345   4   2094    0   506  ...  26.654257   \n",
       "1  51   59  1919  68  369  2887  21  16267   15  3458  ...  21.060573   \n",
       "2  44   58  1330  48  331  1839  25  10869   17  2227  ...  22.804109   \n",
       "3  76  247  1946  44  313  2995  38  16966   21  3744  ...  23.002535   \n",
       "4  31   95  1123  38  158  1647  58   8978   11  2071  ...  22.958584   \n",
       "\n",
       "          BM        TTR       SICH  A_R_I  F_K_R  getFamiliarityScore  \\\n",
       "0  14.896320  30.629371  14.611872      5      6           600.909091   \n",
       "1  14.960296  20.806962  18.631179     12     18           625.459459   \n",
       "2  15.251379  22.356495  15.810811     11     16           621.897436   \n",
       "3  14.871957  20.582878  16.017699      7     12           627.807692   \n",
       "4  15.722231  21.211150  14.501511      6      8           626.095238   \n",
       "\n",
       "   getConcretenessScore  getImagabilityScore  getAoaScore  \n",
       "0            300.444444           353.681818     2.699545  \n",
       "1            334.202247           356.290541     2.813716  \n",
       "2            334.069767           338.217949     2.802949  \n",
       "3            332.955224           287.495192     2.847260  \n",
       "4            327.437500           315.061224     2.830204  \n",
       "\n",
       "[5 rows x 46 columns]"
      ]
     },
     "execution_count": 19,
     "metadata": {},
     "output_type": "execute_result"
    }
   ],
   "source": [
    "data.head(5)"
   ]
  },
  {
   "cell_type": "code",
   "execution_count": 20,
   "metadata": {},
   "outputs": [],
   "source": [
    "label_encoder = LabelEncoder()\n",
    "data.iloc[:,1] = label_encoder.fit_transform(data.iloc[:,0]).astype('float64')"
   ]
  },
  {
   "cell_type": "code",
   "execution_count": 21,
   "metadata": {},
   "outputs": [],
   "source": [
    "corr = data.corr()"
   ]
  },
  {
   "cell_type": "code",
   "execution_count": 22,
   "metadata": {},
   "outputs": [
    {
     "data": {
      "text/plain": [
       "<matplotlib.axes._subplots.AxesSubplot at 0x124253cf8>"
      ]
     },
     "execution_count": 22,
     "metadata": {},
     "output_type": "execute_result"
    },
    {
     "data": {
      "image/png": "[encoded data removed]",
      "text/plain": [
       "<Figure size 432x288 with 2 Axes>"
      ]
     },
     "metadata": {
      "needs_background": "light"
     },
     "output_type": "display_data"
    }
   ],
   "source": [
    "sns.heatmap(corr)"
   ]
  },
  {
   "cell_type": "code",
   "execution_count": 23,
   "metadata": {},
   "outputs": [],
   "source": [
    "columns = np.full((corr.shape[0],), True, dtype=bool)\n",
    "for i in range(corr.shape[0]):\n",
    "    for j in range(i+1, corr.shape[0]):\n",
    "        if corr.iloc[i,j] >= 0.95:\n",
    "            if columns[j]:\n",
    "                columns[j] = False\n",
    "selected_columns = data.columns[columns]\n",
    "data = data[selected_columns]"
   ]
  },
  {
   "cell_type": "code",
   "execution_count": 24,
   "metadata": {},
   "outputs": [],
   "source": [
    "data.to_csv (r'heatmap.csv', index = False, header=True)"
   ]
  },
  {
   "cell_type": "code",
   "execution_count": null,
   "metadata": {},
   "outputs": [],
   "source": []
  }
 ],
 "metadata": {
  "kernelspec": {
   "display_name": "Python 3",
   "language": "python",
   "name": "python3"
  },
  "language_info": {
   "codemirror_mode": {
    "name": "ipython",
    "version": 3
   },
   "file_extension": ".py",
   "mimetype": "text/x-python",
   "name": "python",
   "nbconvert_exporter": "python",
   "pygments_lexer": "ipython3",
   "version": "3.7.3"
  }
 },
 "nbformat": 4,
 "nbformat_minor": 2
}
