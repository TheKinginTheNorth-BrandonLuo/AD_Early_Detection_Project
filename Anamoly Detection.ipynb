{
 "cells": [
  {
   "cell_type": "code",
   "execution_count": 100,
   "metadata": {},
   "outputs": [
    {
     "data": {
      "text/html": [
       "<div>\n",
       "<style scoped>\n",
       "    .dataframe tbody tr th:only-of-type {\n",
       "        vertical-align: middle;\n",
       "    }\n",
       "\n",
       "    .dataframe tbody tr th {\n",
       "        vertical-align: top;\n",
       "    }\n",
       "\n",
       "    .dataframe thead th {\n",
       "        text-align: right;\n",
       "    }\n",
       "</style>\n",
       "<table border=\"1\" class=\"dataframe\">\n",
       "  <thead>\n",
       "    <tr style=\"text-align: right;\">\n",
       "      <th></th>\n",
       "      <th>PRP_NOUN_Ratio</th>\n",
       "      <th>word_freq_rate</th>\n",
       "      <th>verb_freq_rate</th>\n",
       "      <th>PRON_rate</th>\n",
       "      <th>ADV_rate</th>\n",
       "      <th>H_S</th>\n",
       "      <th>BM</th>\n",
       "      <th>SICH</th>\n",
       "      <th>A_R_I</th>\n",
       "    </tr>\n",
       "  </thead>\n",
       "  <tbody>\n",
       "    <tr>\n",
       "      <th>0</th>\n",
       "      <td>28.764045</td>\n",
       "      <td>4.235493</td>\n",
       "      <td>1.270648</td>\n",
       "      <td>4.320203</td>\n",
       "      <td>0.677679</td>\n",
       "      <td>28.961185</td>\n",
       "      <td>14.263374</td>\n",
       "      <td>12.992832</td>\n",
       "      <td>10</td>\n",
       "    </tr>\n",
       "    <tr>\n",
       "      <th>1</th>\n",
       "      <td>39.957717</td>\n",
       "      <td>1.456855</td>\n",
       "      <td>0.747105</td>\n",
       "      <td>5.117669</td>\n",
       "      <td>0.000000</td>\n",
       "      <td>25.454191</td>\n",
       "      <td>15.407202</td>\n",
       "      <td>14.448052</td>\n",
       "      <td>9</td>\n",
       "    </tr>\n",
       "    <tr>\n",
       "      <th>2</th>\n",
       "      <td>34.718499</td>\n",
       "      <td>4.569055</td>\n",
       "      <td>1.064382</td>\n",
       "      <td>5.399792</td>\n",
       "      <td>0.337487</td>\n",
       "      <td>22.607381</td>\n",
       "      <td>15.921747</td>\n",
       "      <td>17.662683</td>\n",
       "      <td>9</td>\n",
       "    </tr>\n",
       "    <tr>\n",
       "      <th>3</th>\n",
       "      <td>31.208499</td>\n",
       "      <td>3.817799</td>\n",
       "      <td>0.763560</td>\n",
       "      <td>5.660874</td>\n",
       "      <td>0.342285</td>\n",
       "      <td>28.946711</td>\n",
       "      <td>14.788018</td>\n",
       "      <td>14.009112</td>\n",
       "      <td>8</td>\n",
       "    </tr>\n",
       "    <tr>\n",
       "      <th>4</th>\n",
       "      <td>18.297332</td>\n",
       "      <td>5.404671</td>\n",
       "      <td>1.059207</td>\n",
       "      <td>2.878870</td>\n",
       "      <td>0.000000</td>\n",
       "      <td>30.511771</td>\n",
       "      <td>13.786073</td>\n",
       "      <td>14.001986</td>\n",
       "      <td>10</td>\n",
       "    </tr>\n",
       "  </tbody>\n",
       "</table>\n",
       "</div>"
      ],
      "text/plain": [
       "   PRP_NOUN_Ratio  word_freq_rate  verb_freq_rate  PRON_rate  ADV_rate  \\\n",
       "0       28.764045        4.235493        1.270648   4.320203  0.677679   \n",
       "1       39.957717        1.456855        0.747105   5.117669  0.000000   \n",
       "2       34.718499        4.569055        1.064382   5.399792  0.337487   \n",
       "3       31.208499        3.817799        0.763560   5.660874  0.342285   \n",
       "4       18.297332        5.404671        1.059207   2.878870  0.000000   \n",
       "\n",
       "         H_S         BM       SICH  A_R_I  \n",
       "0  28.961185  14.263374  12.992832     10  \n",
       "1  25.454191  15.407202  14.448052      9  \n",
       "2  22.607381  15.921747  17.662683      9  \n",
       "3  28.946711  14.788018  14.009112      8  \n",
       "4  30.511771  13.786073  14.001986     10  "
      ]
     },
     "execution_count": 100,
     "metadata": {},
     "output_type": "execute_result"
    }
   ],
   "source": [
    "import re\n",
    "import numpy as np\n",
    "import pandas as pd\n",
    "import matplotlib.pyplot as plt\n",
    "import seaborn as sns\n",
    "import collections\n",
    "\n",
    "import warnings\n",
    "warnings.filterwarnings('ignore')\n",
    "\n",
    "%matplotlib inline\n",
    "df = pd.read_csv(\"haha.csv\")\n",
    "df = df.drop(columns=['ADV','NOUN','VERB','word_freq_rate_Nsw','Noun_rate','F_K_R','PRON', 'NOUN_Ratio' , 'PRP_Ratio' , 'TTR' ],axis=1)\n",
    "dt.head()\n"
   ]
  },
  {
   "cell_type": "code",
   "execution_count": 101,
   "metadata": {},
   "outputs": [],
   "source": [
    "h = df.values.tolist()"
   ]
  },
  {
   "cell_type": "code",
   "execution_count": 102,
   "metadata": {},
   "outputs": [
    {
     "data": {
      "text/plain": [
       "[1980717.0,\n",
       " 1980.0,\n",
       " 28.76404494,\n",
       " 4.235493435,\n",
       " 1.27064803,\n",
       " 4.320203304,\n",
       " 0.67767895,\n",
       " 28.96118495,\n",
       " 14.26337419,\n",
       " 12.99283154,\n",
       " 10.0]"
      ]
     },
     "execution_count": 102,
     "metadata": {},
     "output_type": "execute_result"
    }
   ],
   "source": [
    "h[0]"
   ]
  },
  {
   "cell_type": "code",
   "execution_count": 103,
   "metadata": {},
   "outputs": [
    {
     "data": {
      "text/html": [
       "<div>\n",
       "<style scoped>\n",
       "    .dataframe tbody tr th:only-of-type {\n",
       "        vertical-align: middle;\n",
       "    }\n",
       "\n",
       "    .dataframe tbody tr th {\n",
       "        vertical-align: top;\n",
       "    }\n",
       "\n",
       "    .dataframe thead th {\n",
       "        text-align: right;\n",
       "    }\n",
       "</style>\n",
       "<table border=\"1\" class=\"dataframe\">\n",
       "  <thead>\n",
       "    <tr style=\"text-align: right;\">\n",
       "      <th></th>\n",
       "      <th>PRP_NOUN_Ratio</th>\n",
       "      <th>word_freq_rate</th>\n",
       "      <th>verb_freq_rate</th>\n",
       "      <th>PRON_rate</th>\n",
       "      <th>ADV_rate</th>\n",
       "      <th>H_S</th>\n",
       "      <th>BM</th>\n",
       "      <th>SICH</th>\n",
       "      <th>A_R_I</th>\n",
       "    </tr>\n",
       "  </thead>\n",
       "  <tbody>\n",
       "    <tr>\n",
       "      <th>0</th>\n",
       "      <td>28.764045</td>\n",
       "      <td>4.235493</td>\n",
       "      <td>1.270648</td>\n",
       "      <td>4.320203</td>\n",
       "      <td>0.677679</td>\n",
       "      <td>28.961185</td>\n",
       "      <td>14.263374</td>\n",
       "      <td>12.992832</td>\n",
       "      <td>10</td>\n",
       "    </tr>\n",
       "    <tr>\n",
       "      <th>1</th>\n",
       "      <td>39.957717</td>\n",
       "      <td>1.456855</td>\n",
       "      <td>0.747105</td>\n",
       "      <td>5.117669</td>\n",
       "      <td>0.000000</td>\n",
       "      <td>25.454191</td>\n",
       "      <td>15.407202</td>\n",
       "      <td>14.448052</td>\n",
       "      <td>9</td>\n",
       "    </tr>\n",
       "    <tr>\n",
       "      <th>2</th>\n",
       "      <td>34.718499</td>\n",
       "      <td>4.569055</td>\n",
       "      <td>1.064382</td>\n",
       "      <td>5.399792</td>\n",
       "      <td>0.337487</td>\n",
       "      <td>22.607381</td>\n",
       "      <td>15.921747</td>\n",
       "      <td>17.662683</td>\n",
       "      <td>9</td>\n",
       "    </tr>\n",
       "    <tr>\n",
       "      <th>3</th>\n",
       "      <td>31.208499</td>\n",
       "      <td>3.817799</td>\n",
       "      <td>0.763560</td>\n",
       "      <td>5.660874</td>\n",
       "      <td>0.342285</td>\n",
       "      <td>28.946711</td>\n",
       "      <td>14.788018</td>\n",
       "      <td>14.009112</td>\n",
       "      <td>8</td>\n",
       "    </tr>\n",
       "    <tr>\n",
       "      <th>4</th>\n",
       "      <td>18.297332</td>\n",
       "      <td>5.404671</td>\n",
       "      <td>1.059207</td>\n",
       "      <td>2.878870</td>\n",
       "      <td>0.000000</td>\n",
       "      <td>30.511771</td>\n",
       "      <td>13.786073</td>\n",
       "      <td>14.001986</td>\n",
       "      <td>10</td>\n",
       "    </tr>\n",
       "  </tbody>\n",
       "</table>\n",
       "</div>"
      ],
      "text/plain": [
       "   PRP_NOUN_Ratio  word_freq_rate  verb_freq_rate  PRON_rate  ADV_rate  \\\n",
       "0       28.764045        4.235493        1.270648   4.320203  0.677679   \n",
       "1       39.957717        1.456855        0.747105   5.117669  0.000000   \n",
       "2       34.718499        4.569055        1.064382   5.399792  0.337487   \n",
       "3       31.208499        3.817799        0.763560   5.660874  0.342285   \n",
       "4       18.297332        5.404671        1.059207   2.878870  0.000000   \n",
       "\n",
       "         H_S         BM       SICH  A_R_I  \n",
       "0  28.961185  14.263374  12.992832     10  \n",
       "1  25.454191  15.407202  14.448052      9  \n",
       "2  22.607381  15.921747  17.662683      9  \n",
       "3  28.946711  14.788018  14.009112      8  \n",
       "4  30.511771  13.786073  14.001986     10  "
      ]
     },
     "execution_count": 103,
     "metadata": {},
     "output_type": "execute_result"
    }
   ],
   "source": [
    "dt = pd.read_csv(\"haha.csv\")\n",
    "dt = dt.drop(columns=['Dates','Year','ADV','NOUN','VERB','word_freq_rate_Nsw','Noun_rate','F_K_R','PRON', 'NOUN_Ratio' , 'PRP_Ratio' , 'TTR' ],axis=1)\n",
    "dt.head()"
   ]
  },
  {
   "cell_type": "code",
   "execution_count": 104,
   "metadata": {},
   "outputs": [],
   "source": [
    "f = dt.values.tolist()"
   ]
  },
  {
   "cell_type": "code",
   "execution_count": 105,
   "metadata": {},
   "outputs": [
    {
     "data": {
      "text/plain": [
       "[34.71849866,\n",
       " 4.569055036,\n",
       " 1.0643821390000001,\n",
       " 5.399792316,\n",
       " 0.33748702,\n",
       " 22.60738136,\n",
       " 15.92174741,\n",
       " 17.6626826,\n",
       " 9.0]"
      ]
     },
     "execution_count": 105,
     "metadata": {},
     "output_type": "execute_result"
    }
   ],
   "source": [
    "f[2]"
   ]
  },
  {
   "cell_type": "code",
   "execution_count": 113,
   "metadata": {
    "scrolled": true
   },
   "outputs": [
    {
     "data": {
      "text/html": [
       "        <script type=\"text/javascript\">\n",
       "        window.PlotlyConfig = {MathJaxConfig: 'local'};\n",
       "        if (window.MathJax) {MathJax.Hub.Config({SVG: {font: \"STIX-Web\"}});}\n",
       "        if (typeof require !== 'undefined') {\n",
       "        require.undef(\"plotly\");\n",
       "        requirejs.config({\n",
       "            paths: {\n",
       "                'plotly': ['https://cdn.plot.ly/plotly-latest.min']\n",
       "            }\n",
       "        });\n",
       "        require(['plotly'], function(Plotly) {\n",
       "            window._Plotly = Plotly;\n",
       "        });\n",
       "        }\n",
       "        </script>\n",
       "        "
      ]
     },
     "metadata": {},
     "output_type": "display_data"
    },
    {
     "name": "stdout",
     "output_type": "stream",
     "text": [
      "Anomaly detection is：40/98\n"
     ]
    },
    {
     "data": {
      "application/vnd.plotly.v1+json": {
       "config": {
        "linkText": "Export to plot.ly",
        "plotlyServerURL": "https://plot.ly",
        "showLink": false
       },
       "data": [
        {
         "marker": {
          "color": [
           1,
           1,
           1,
           1,
           1,
           1,
           1,
           -1,
           1,
           1,
           1,
           -1,
           1,
           1,
           1,
           1,
           1,
           1,
           -1,
           1,
           1,
           1,
           1,
           -1,
           1,
           1,
           1,
           1,
           1,
           -1,
           -1,
           1,
           -1,
           1,
           -1,
           1,
           1,
           -1,
           1,
           1,
           -1,
           -1,
           1,
           1,
           -1,
           -1,
           -1,
           -1,
           -1,
           -1,
           -1,
           -1,
           -1,
           1,
           1,
           1,
           1,
           -1,
           -1,
           1,
           -1,
           1,
           -1,
           1,
           1,
           -1,
           1,
           1,
           -1,
           1,
           -1,
           1,
           -1,
           1,
           1,
           1,
           -1,
           -1,
           1,
           -1,
           -1,
           -1,
           1,
           -1,
           1,
           -1,
           -1,
           1,
           -1,
           1,
           -1,
           -1,
           1,
           1,
           1,
           -1,
           1,
           1
          ],
          "size": 5
         },
         "mode": "markers",
         "type": "scatter3d",
         "x": [
          4.320203304,
          5.117669032,
          5.399792316,
          5.660874144,
          2.8788701789999998,
          4.957832865,
          4.154234565,
          1.5518913680000002,
          6.14334471,
          4.4866004219999995,
          4.067460317,
          4.421498543999999,
          3.7875489769999997,
          4,
          2.222222222,
          5.030800821000001,
          3.944919985,
          2.3619427809999998,
          5.604460093999999,
          5.626437984,
          5.882352941000001,
          2.468443198,
          3.979820628,
          4.928050463,
          2.06022187,
          4.01937046,
          4.8067860510000004,
          2.9987505210000003,
          3.80998312,
          5.018489171000001,
          4.285714286,
          3.920308483,
          5.352986811,
          6.963734568,
          3.89810224,
          0.904605263,
          3.697785894,
          3.0108780110000004,
          4.227941176,
          6.422018349,
          4.107681597,
          3.054662379,
          5.358838692,
          6.343104277,
          7.43681355,
          2.717269257,
          2.977487291,
          4.949893714,
          5.163304515,
          3.093281779,
          4.512258738,
          4.618417347,
          3.7348763810000003,
          5.2808046939999995,
          6.497969385,
          4.4076273839999995,
          4.7932330830000005,
          4.14754677,
          7.8039168860000006,
          4.7920434,
          2.645761881,
          4.082150101,
          6.240533172,
          8.32996633,
          2.1520803440000003,
          3.243791181,
          6.41221374,
          1.699181875,
          2.7333527189999995,
          3.9226674139999997,
          4.975357897,
          4.74516696,
          3.831837092,
          2.986366587,
          2.073365231,
          3.1061929719999997,
          4.09039548,
          4.197080292,
          3.9266400189999997,
          6.111806425,
          5.037037037,
          4.384203481,
          3.882575758,
          5.82278481,
          3.03456027,
          4.029082096000001,
          3.306078919,
          4.925334032,
          2.46835443,
          4.6993911719999995,
          6.384426899,
          4.3573418230000005,
          4.7852760739999995,
          5.141388175,
          7.294911733999999,
          4.550332688999999,
          2.6086956519999998,
          3.6676403769999997
         ],
         "y": [
          0.67767895,
          0,
          0.33748702,
          0.342285413,
          0,
          0,
          0.252467294,
          0,
          0.606750095,
          0.331225534,
          0,
          0.344188509,
          0.282977797,
          0,
          0,
          0,
          0,
          0,
          0.41079812200000004,
          0.9203095590000001,
          0,
          0,
          0,
          0.275970826,
          0,
          0.266343826,
          0,
          0,
          0,
          0,
          0,
          0,
          0.310318076,
          0.983796296,
          0.530005129,
          0,
          0,
          0,
          0,
          0,
          0,
          0,
          1.193867861,
          0.624699664,
          2.156940585,
          0,
          0,
          0.33404190699999997,
          0.8885686840000001,
          0,
          0.286906625,
          0,
          0,
          0,
          0.7185254609999999,
          0,
          0.43233082700000003,
          0.194140487,
          2.125626941,
          0,
          0,
          0,
          0.424113905,
          3.144781145,
          0,
          0.709579321,
          0,
          0.755191945,
          0,
          0.36424768799999996,
          0.8448720959999999,
          0.5272407729999999,
          0,
          0,
          0,
          1.8443020769999998,
          0.49717514100000004,
          0,
          0.28215377399999997,
          0.813516896,
          0,
          0,
          0,
          0,
          0,
          0,
          0.39104159299999997,
          0,
          0,
          0,
          1.6063163630000001,
          0.21886191800000002,
          0,
          0,
          0.28556594,
          0,
          1.027667984,
          0.389483934
         ],
         "z": [
          28.96118495,
          25.45419088,
          22.60738136,
          28.94671138,
          30.51177063,
          24.58479258,
          34.90400294,
          34.37119391,
          23.474815200000002,
          24.50750306,
          23.73967636,
          29.17572873,
          33.06500137,
          32.61917911,
          31.26428749,
          28.07331377,
          32.66936263,
          27.85685057,
          23.82065117,
          25.0860461,
          29.173648999999997,
          25.38061476,
          30.02415964,
          26.27658826,
          42.59827088,
          29.64879932,
          39.53397983,
          28.16262688,
          35.97654865,
          31.52659024,
          23.52898938,
          28.90000392,
          30.64809152,
          26.47585302,
          30.04544163,
          31.4704142,
          28.86963885,
          29.27534838,
          32.12310967,
          25.41007051,
          23.80300701,
          29.28648062,
          35.80849581,
          24.03851512,
          30.86618778,
          24.08041735,
          30.73581729,
          22.76438604,
          34.55096731,
          33.46111817,
          23.35106284,
          26.9167613,
          25.87748,
          32.64576574,
          32.54246624,
          21.74119076,
          32.79397434,
          32.39023909,
          31.80174646,
          24.39638302,
          25.97646802,
          27.14640985,
          28.82435453,
          21.36932485,
          28.41583455,
          29.33005106,
          34.93891147,
          24.24625055,
          23.53769428,
          25.59232658,
          26.60906593,
          25.98608965,
          25.17515703,
          30.58575081,
          38.25531885,
          34.3741666,
          32.80609278,
          31.34069762,
          24.49170732,
          34.27396154,
          22.85095177,
          23.89942358,
          24.299691600000003,
          37.90282546,
          25.48407338,
          28.56646655,
          27.95274945,
          25.28298348,
          27.80871749,
          29.77132347,
          36.71473539,
          35.71676937,
          29.94090691,
          28.94228924,
          25.73826675,
          23.66394407,
          31.27400105,
          23.993331
         ]
        }
       ],
       "layout": {
        "template": {
         "data": {
          "bar": [
           {
            "error_x": {
             "color": "#2a3f5f"
            },
            "error_y": {
             "color": "#2a3f5f"
            },
            "marker": {
             "line": {
              "color": "#E5ECF6",
              "width": 0.5
             }
            },
            "type": "bar"
           }
          ],
          "barpolar": [
           {
            "marker": {
             "line": {
              "color": "#E5ECF6",
              "width": 0.5
             }
            },
            "type": "barpolar"
           }
          ],
          "carpet": [
           {
            "aaxis": {
             "endlinecolor": "#2a3f5f",
             "gridcolor": "white",
             "linecolor": "white",
             "minorgridcolor": "white",
             "startlinecolor": "#2a3f5f"
            },
            "baxis": {
             "endlinecolor": "#2a3f5f",
             "gridcolor": "white",
             "linecolor": "white",
             "minorgridcolor": "white",
             "startlinecolor": "#2a3f5f"
            },
            "type": "carpet"
           }
          ],
          "choropleth": [
           {
            "colorbar": {
             "outlinewidth": 0,
             "ticks": ""
            },
            "type": "choropleth"
           }
          ],
          "contour": [
           {
            "colorbar": {
             "outlinewidth": 0,
             "ticks": ""
            },
            "colorscale": [
             [
              0,
              "#0d0887"
             ],
             [
              0.1111111111111111,
              "#46039f"
             ],
             [
              0.2222222222222222,
              "#7201a8"
             ],
             [
              0.3333333333333333,
              "#9c179e"
             ],
             [
              0.4444444444444444,
              "#bd3786"
             ],
             [
              0.5555555555555556,
              "#d8576b"
             ],
             [
              0.6666666666666666,
              "#ed7953"
             ],
             [
              0.7777777777777778,
              "#fb9f3a"
             ],
             [
              0.8888888888888888,
              "#fdca26"
             ],
             [
              1,
              "#f0f921"
             ]
            ],
            "type": "contour"
           }
          ],
          "contourcarpet": [
           {
            "colorbar": {
             "outlinewidth": 0,
             "ticks": ""
            },
            "type": "contourcarpet"
           }
          ],
          "heatmap": [
           {
            "colorbar": {
             "outlinewidth": 0,
             "ticks": ""
            },
            "colorscale": [
             [
              0,
              "#0d0887"
             ],
             [
              0.1111111111111111,
              "#46039f"
             ],
             [
              0.2222222222222222,
              "#7201a8"
             ],
             [
              0.3333333333333333,
              "#9c179e"
             ],
             [
              0.4444444444444444,
              "#bd3786"
             ],
             [
              0.5555555555555556,
              "#d8576b"
             ],
             [
              0.6666666666666666,
              "#ed7953"
             ],
             [
              0.7777777777777778,
              "#fb9f3a"
             ],
             [
              0.8888888888888888,
              "#fdca26"
             ],
             [
              1,
              "#f0f921"
             ]
            ],
            "type": "heatmap"
           }
          ],
          "heatmapgl": [
           {
            "colorbar": {
             "outlinewidth": 0,
             "ticks": ""
            },
            "colorscale": [
             [
              0,
              "#0d0887"
             ],
             [
              0.1111111111111111,
              "#46039f"
             ],
             [
              0.2222222222222222,
              "#7201a8"
             ],
             [
              0.3333333333333333,
              "#9c179e"
             ],
             [
              0.4444444444444444,
              "#bd3786"
             ],
             [
              0.5555555555555556,
              "#d8576b"
             ],
             [
              0.6666666666666666,
              "#ed7953"
             ],
             [
              0.7777777777777778,
              "#fb9f3a"
             ],
             [
              0.8888888888888888,
              "#fdca26"
             ],
             [
              1,
              "#f0f921"
             ]
            ],
            "type": "heatmapgl"
           }
          ],
          "histogram": [
           {
            "marker": {
             "colorbar": {
              "outlinewidth": 0,
              "ticks": ""
             }
            },
            "type": "histogram"
           }
          ],
          "histogram2d": [
           {
            "colorbar": {
             "outlinewidth": 0,
             "ticks": ""
            },
            "colorscale": [
             [
              0,
              "#0d0887"
             ],
             [
              0.1111111111111111,
              "#46039f"
             ],
             [
              0.2222222222222222,
              "#7201a8"
             ],
             [
              0.3333333333333333,
              "#9c179e"
             ],
             [
              0.4444444444444444,
              "#bd3786"
             ],
             [
              0.5555555555555556,
              "#d8576b"
             ],
             [
              0.6666666666666666,
              "#ed7953"
             ],
             [
              0.7777777777777778,
              "#fb9f3a"
             ],
             [
              0.8888888888888888,
              "#fdca26"
             ],
             [
              1,
              "#f0f921"
             ]
            ],
            "type": "histogram2d"
           }
          ],
          "histogram2dcontour": [
           {
            "colorbar": {
             "outlinewidth": 0,
             "ticks": ""
            },
            "colorscale": [
             [
              0,
              "#0d0887"
             ],
             [
              0.1111111111111111,
              "#46039f"
             ],
             [
              0.2222222222222222,
              "#7201a8"
             ],
             [
              0.3333333333333333,
              "#9c179e"
             ],
             [
              0.4444444444444444,
              "#bd3786"
             ],
             [
              0.5555555555555556,
              "#d8576b"
             ],
             [
              0.6666666666666666,
              "#ed7953"
             ],
             [
              0.7777777777777778,
              "#fb9f3a"
             ],
             [
              0.8888888888888888,
              "#fdca26"
             ],
             [
              1,
              "#f0f921"
             ]
            ],
            "type": "histogram2dcontour"
           }
          ],
          "mesh3d": [
           {
            "colorbar": {
             "outlinewidth": 0,
             "ticks": ""
            },
            "type": "mesh3d"
           }
          ],
          "parcoords": [
           {
            "line": {
             "colorbar": {
              "outlinewidth": 0,
              "ticks": ""
             }
            },
            "type": "parcoords"
           }
          ],
          "pie": [
           {
            "automargin": true,
            "type": "pie"
           }
          ],
          "scatter": [
           {
            "marker": {
             "colorbar": {
              "outlinewidth": 0,
              "ticks": ""
             }
            },
            "type": "scatter"
           }
          ],
          "scatter3d": [
           {
            "line": {
             "colorbar": {
              "outlinewidth": 0,
              "ticks": ""
             }
            },
            "marker": {
             "colorbar": {
              "outlinewidth": 0,
              "ticks": ""
             }
            },
            "type": "scatter3d"
           }
          ],
          "scattercarpet": [
           {
            "marker": {
             "colorbar": {
              "outlinewidth": 0,
              "ticks": ""
             }
            },
            "type": "scattercarpet"
           }
          ],
          "scattergeo": [
           {
            "marker": {
             "colorbar": {
              "outlinewidth": 0,
              "ticks": ""
             }
            },
            "type": "scattergeo"
           }
          ],
          "scattergl": [
           {
            "marker": {
             "colorbar": {
              "outlinewidth": 0,
              "ticks": ""
             }
            },
            "type": "scattergl"
           }
          ],
          "scattermapbox": [
           {
            "marker": {
             "colorbar": {
              "outlinewidth": 0,
              "ticks": ""
             }
            },
            "type": "scattermapbox"
           }
          ],
          "scatterpolar": [
           {
            "marker": {
             "colorbar": {
              "outlinewidth": 0,
              "ticks": ""
             }
            },
            "type": "scatterpolar"
           }
          ],
          "scatterpolargl": [
           {
            "marker": {
             "colorbar": {
              "outlinewidth": 0,
              "ticks": ""
             }
            },
            "type": "scatterpolargl"
           }
          ],
          "scatterternary": [
           {
            "marker": {
             "colorbar": {
              "outlinewidth": 0,
              "ticks": ""
             }
            },
            "type": "scatterternary"
           }
          ],
          "surface": [
           {
            "colorbar": {
             "outlinewidth": 0,
             "ticks": ""
            },
            "colorscale": [
             [
              0,
              "#0d0887"
             ],
             [
              0.1111111111111111,
              "#46039f"
             ],
             [
              0.2222222222222222,
              "#7201a8"
             ],
             [
              0.3333333333333333,
              "#9c179e"
             ],
             [
              0.4444444444444444,
              "#bd3786"
             ],
             [
              0.5555555555555556,
              "#d8576b"
             ],
             [
              0.6666666666666666,
              "#ed7953"
             ],
             [
              0.7777777777777778,
              "#fb9f3a"
             ],
             [
              0.8888888888888888,
              "#fdca26"
             ],
             [
              1,
              "#f0f921"
             ]
            ],
            "type": "surface"
           }
          ],
          "table": [
           {
            "cells": {
             "fill": {
              "color": "#EBF0F8"
             },
             "line": {
              "color": "white"
             }
            },
            "header": {
             "fill": {
              "color": "#C8D4E3"
             },
             "line": {
              "color": "white"
             }
            },
            "type": "table"
           }
          ]
         },
         "layout": {
          "annotationdefaults": {
           "arrowcolor": "#2a3f5f",
           "arrowhead": 0,
           "arrowwidth": 1
          },
          "coloraxis": {
           "colorbar": {
            "outlinewidth": 0,
            "ticks": ""
           }
          },
          "colorscale": {
           "diverging": [
            [
             0,
             "#8e0152"
            ],
            [
             0.1,
             "#c51b7d"
            ],
            [
             0.2,
             "#de77ae"
            ],
            [
             0.3,
             "#f1b6da"
            ],
            [
             0.4,
             "#fde0ef"
            ],
            [
             0.5,
             "#f7f7f7"
            ],
            [
             0.6,
             "#e6f5d0"
            ],
            [
             0.7,
             "#b8e186"
            ],
            [
             0.8,
             "#7fbc41"
            ],
            [
             0.9,
             "#4d9221"
            ],
            [
             1,
             "#276419"
            ]
           ],
           "sequential": [
            [
             0,
             "#0d0887"
            ],
            [
             0.1111111111111111,
             "#46039f"
            ],
            [
             0.2222222222222222,
             "#7201a8"
            ],
            [
             0.3333333333333333,
             "#9c179e"
            ],
            [
             0.4444444444444444,
             "#bd3786"
            ],
            [
             0.5555555555555556,
             "#d8576b"
            ],
            [
             0.6666666666666666,
             "#ed7953"
            ],
            [
             0.7777777777777778,
             "#fb9f3a"
            ],
            [
             0.8888888888888888,
             "#fdca26"
            ],
            [
             1,
             "#f0f921"
            ]
           ],
           "sequentialminus": [
            [
             0,
             "#0d0887"
            ],
            [
             0.1111111111111111,
             "#46039f"
            ],
            [
             0.2222222222222222,
             "#7201a8"
            ],
            [
             0.3333333333333333,
             "#9c179e"
            ],
            [
             0.4444444444444444,
             "#bd3786"
            ],
            [
             0.5555555555555556,
             "#d8576b"
            ],
            [
             0.6666666666666666,
             "#ed7953"
            ],
            [
             0.7777777777777778,
             "#fb9f3a"
            ],
            [
             0.8888888888888888,
             "#fdca26"
            ],
            [
             1,
             "#f0f921"
            ]
           ]
          },
          "colorway": [
           "#636efa",
           "#EF553B",
           "#00cc96",
           "#ab63fa",
           "#FFA15A",
           "#19d3f3",
           "#FF6692",
           "#B6E880",
           "#FF97FF",
           "#FECB52"
          ],
          "font": {
           "color": "#2a3f5f"
          },
          "geo": {
           "bgcolor": "white",
           "lakecolor": "white",
           "landcolor": "#E5ECF6",
           "showlakes": true,
           "showland": true,
           "subunitcolor": "white"
          },
          "hoverlabel": {
           "align": "left"
          },
          "hovermode": "closest",
          "mapbox": {
           "style": "light"
          },
          "paper_bgcolor": "white",
          "plot_bgcolor": "#E5ECF6",
          "polar": {
           "angularaxis": {
            "gridcolor": "white",
            "linecolor": "white",
            "ticks": ""
           },
           "bgcolor": "#E5ECF6",
           "radialaxis": {
            "gridcolor": "white",
            "linecolor": "white",
            "ticks": ""
           }
          },
          "scene": {
           "xaxis": {
            "backgroundcolor": "#E5ECF6",
            "gridcolor": "white",
            "gridwidth": 2,
            "linecolor": "white",
            "showbackground": true,
            "ticks": "",
            "zerolinecolor": "white"
           },
           "yaxis": {
            "backgroundcolor": "#E5ECF6",
            "gridcolor": "white",
            "gridwidth": 2,
            "linecolor": "white",
            "showbackground": true,
            "ticks": "",
            "zerolinecolor": "white"
           },
           "zaxis": {
            "backgroundcolor": "#E5ECF6",
            "gridcolor": "white",
            "gridwidth": 2,
            "linecolor": "white",
            "showbackground": true,
            "ticks": "",
            "zerolinecolor": "white"
           }
          },
          "shapedefaults": {
           "line": {
            "color": "#2a3f5f"
           }
          },
          "ternary": {
           "aaxis": {
            "gridcolor": "white",
            "linecolor": "white",
            "ticks": ""
           },
           "baxis": {
            "gridcolor": "white",
            "linecolor": "white",
            "ticks": ""
           },
           "bgcolor": "#E5ECF6",
           "caxis": {
            "gridcolor": "white",
            "linecolor": "white",
            "ticks": ""
           }
          },
          "title": {
           "x": 0.05
          },
          "xaxis": {
           "automargin": true,
           "gridcolor": "white",
           "linecolor": "white",
           "ticks": "",
           "title": {
            "standoff": 15
           },
           "zerolinecolor": "white",
           "zerolinewidth": 2
          },
          "yaxis": {
           "automargin": true,
           "gridcolor": "white",
           "linecolor": "white",
           "ticks": "",
           "title": {
            "standoff": 15
           },
           "zerolinecolor": "white",
           "zerolinewidth": 2
          }
         }
        }
       }
      },
      "text/html": [
       "<div>\n",
       "        \n",
       "        \n",
       "            <div id=\"29bb9e5e-5ff1-48bf-a4e0-78cb1506189f\" class=\"plotly-graph-div\" style=\"height:525px; width:100%;\"></div>\n",
       "            <script type=\"text/javascript\">\n",
       "                require([\"plotly\"], function(Plotly) {\n",
       "                    window.PLOTLYENV=window.PLOTLYENV || {};\n",
       "                    \n",
       "                if (document.getElementById(\"29bb9e5e-5ff1-48bf-a4e0-78cb1506189f\")) {\n",
       "                    Plotly.newPlot(\n",
       "                        '29bb9e5e-5ff1-48bf-a4e0-78cb1506189f',\n",
       "                        [{\"marker\": {\"color\": [1.0, 1.0, 1.0, 1.0, 1.0, 1.0, 1.0, -1.0, 1.0, 1.0, 1.0, -1.0, 1.0, 1.0, 1.0, 1.0, 1.0, 1.0, -1.0, 1.0, 1.0, 1.0, 1.0, -1.0, 1.0, 1.0, 1.0, 1.0, 1.0, -1.0, -1.0, 1.0, -1.0, 1.0, -1.0, 1.0, 1.0, -1.0, 1.0, 1.0, -1.0, -1.0, 1.0, 1.0, -1.0, -1.0, -1.0, -1.0, -1.0, -1.0, -1.0, -1.0, -1.0, 1.0, 1.0, 1.0, 1.0, -1.0, -1.0, 1.0, -1.0, 1.0, -1.0, 1.0, 1.0, -1.0, 1.0, 1.0, -1.0, 1.0, -1.0, 1.0, -1.0, 1.0, 1.0, 1.0, -1.0, -1.0, 1.0, -1.0, -1.0, -1.0, 1.0, -1.0, 1.0, -1.0, -1.0, 1.0, -1.0, 1.0, -1.0, -1.0, 1.0, 1.0, 1.0, -1.0, 1.0, 1.0], \"size\": 5}, \"mode\": \"markers\", \"type\": \"scatter3d\", \"x\": [4.320203304, 5.117669032, 5.399792316, 5.660874144, 2.8788701789999998, 4.957832865, 4.154234565, 1.5518913680000002, 6.14334471, 4.4866004219999995, 4.067460317, 4.421498543999999, 3.7875489769999997, 4.0, 2.222222222, 5.030800821000001, 3.944919985, 2.3619427809999998, 5.604460093999999, 5.626437984, 5.882352941000001, 2.468443198, 3.979820628, 4.928050463, 2.06022187, 4.01937046, 4.8067860510000004, 2.9987505210000003, 3.80998312, 5.018489171000001, 4.285714286, 3.920308483, 5.352986811, 6.963734568, 3.89810224, 0.904605263, 3.697785894, 3.0108780110000004, 4.227941176, 6.422018349, 4.107681597, 3.054662379, 5.358838692, 6.343104277, 7.43681355, 2.717269257, 2.977487291, 4.949893714, 5.163304515, 3.093281779, 4.512258738, 4.618417347, 3.7348763810000003, 5.2808046939999995, 6.497969385, 4.4076273839999995, 4.7932330830000005, 4.14754677, 7.8039168860000006, 4.7920434, 2.645761881, 4.082150101, 6.240533172, 8.32996633, 2.1520803440000003, 3.243791181, 6.41221374, 1.699181875, 2.7333527189999995, 3.9226674139999997, 4.975357897, 4.74516696, 3.831837092, 2.986366587, 2.073365231, 3.1061929719999997, 4.09039548, 4.197080292, 3.9266400189999997, 6.111806425, 5.037037037, 4.384203481, 3.882575758, 5.82278481, 3.03456027, 4.029082096000001, 3.306078919, 4.925334032, 2.46835443, 4.6993911719999995, 6.384426899, 4.3573418230000005, 4.7852760739999995, 5.141388175, 7.294911733999999, 4.550332688999999, 2.6086956519999998, 3.6676403769999997], \"y\": [0.67767895, 0.0, 0.33748702, 0.342285413, 0.0, 0.0, 0.252467294, 0.0, 0.606750095, 0.331225534, 0.0, 0.344188509, 0.282977797, 0.0, 0.0, 0.0, 0.0, 0.0, 0.41079812200000004, 0.9203095590000001, 0.0, 0.0, 0.0, 0.275970826, 0.0, 0.266343826, 0.0, 0.0, 0.0, 0.0, 0.0, 0.0, 0.310318076, 0.983796296, 0.530005129, 0.0, 0.0, 0.0, 0.0, 0.0, 0.0, 0.0, 1.193867861, 0.624699664, 2.156940585, 0.0, 0.0, 0.33404190699999997, 0.8885686840000001, 0.0, 0.286906625, 0.0, 0.0, 0.0, 0.7185254609999999, 0.0, 0.43233082700000003, 0.194140487, 2.125626941, 0.0, 0.0, 0.0, 0.424113905, 3.144781145, 0.0, 0.709579321, 0.0, 0.755191945, 0.0, 0.36424768799999996, 0.8448720959999999, 0.5272407729999999, 0.0, 0.0, 0.0, 1.8443020769999998, 0.49717514100000004, 0.0, 0.28215377399999997, 0.813516896, 0.0, 0.0, 0.0, 0.0, 0.0, 0.0, 0.39104159299999997, 0.0, 0.0, 0.0, 1.6063163630000001, 0.21886191800000002, 0.0, 0.0, 0.28556594, 0.0, 1.027667984, 0.389483934], \"z\": [28.96118495, 25.45419088, 22.60738136, 28.94671138, 30.51177063, 24.58479258, 34.90400294, 34.37119391, 23.474815200000002, 24.50750306, 23.73967636, 29.17572873, 33.06500137, 32.61917911, 31.26428749, 28.07331377, 32.66936263, 27.85685057, 23.82065117, 25.0860461, 29.173648999999997, 25.38061476, 30.02415964, 26.27658826, 42.59827088, 29.64879932, 39.53397983, 28.16262688, 35.97654865, 31.52659024, 23.52898938, 28.90000392, 30.64809152, 26.47585302, 30.04544163, 31.4704142, 28.86963885, 29.27534838, 32.12310967, 25.41007051, 23.80300701, 29.28648062, 35.80849581, 24.03851512, 30.86618778, 24.08041735, 30.73581729, 22.76438604, 34.55096731, 33.46111817, 23.35106284, 26.9167613, 25.87748, 32.64576574, 32.54246624, 21.74119076, 32.79397434, 32.39023909, 31.80174646, 24.39638302, 25.97646802, 27.14640985, 28.82435453, 21.36932485, 28.41583455, 29.33005106, 34.93891147, 24.24625055, 23.53769428, 25.59232658, 26.60906593, 25.98608965, 25.17515703, 30.58575081, 38.25531885, 34.3741666, 32.80609278, 31.34069762, 24.49170732, 34.27396154, 22.85095177, 23.89942358, 24.299691600000003, 37.90282546, 25.48407338, 28.56646655, 27.95274945, 25.28298348, 27.80871749, 29.77132347, 36.71473539, 35.71676937, 29.94090691, 28.94228924, 25.73826675, 23.66394407, 31.27400105, 23.993331]}],\n",
       "                        {\"template\": {\"data\": {\"bar\": [{\"error_x\": {\"color\": \"#2a3f5f\"}, \"error_y\": {\"color\": \"#2a3f5f\"}, \"marker\": {\"line\": {\"color\": \"#E5ECF6\", \"width\": 0.5}}, \"type\": \"bar\"}], \"barpolar\": [{\"marker\": {\"line\": {\"color\": \"#E5ECF6\", \"width\": 0.5}}, \"type\": \"barpolar\"}], \"carpet\": [{\"aaxis\": {\"endlinecolor\": \"#2a3f5f\", \"gridcolor\": \"white\", \"linecolor\": \"white\", \"minorgridcolor\": \"white\", \"startlinecolor\": \"#2a3f5f\"}, \"baxis\": {\"endlinecolor\": \"#2a3f5f\", \"gridcolor\": \"white\", \"linecolor\": \"white\", \"minorgridcolor\": \"white\", \"startlinecolor\": \"#2a3f5f\"}, \"type\": \"carpet\"}], \"choropleth\": [{\"colorbar\": {\"outlinewidth\": 0, \"ticks\": \"\"}, \"type\": \"choropleth\"}], \"contour\": [{\"colorbar\": {\"outlinewidth\": 0, \"ticks\": \"\"}, \"colorscale\": [[0.0, \"#0d0887\"], [0.1111111111111111, \"#46039f\"], [0.2222222222222222, \"#7201a8\"], [0.3333333333333333, \"#9c179e\"], [0.4444444444444444, \"#bd3786\"], [0.5555555555555556, \"#d8576b\"], [0.6666666666666666, \"#ed7953\"], [0.7777777777777778, \"#fb9f3a\"], [0.8888888888888888, \"#fdca26\"], [1.0, \"#f0f921\"]], \"type\": \"contour\"}], \"contourcarpet\": [{\"colorbar\": {\"outlinewidth\": 0, \"ticks\": \"\"}, \"type\": \"contourcarpet\"}], \"heatmap\": [{\"colorbar\": {\"outlinewidth\": 0, \"ticks\": \"\"}, \"colorscale\": [[0.0, \"#0d0887\"], [0.1111111111111111, \"#46039f\"], [0.2222222222222222, \"#7201a8\"], [0.3333333333333333, \"#9c179e\"], [0.4444444444444444, \"#bd3786\"], [0.5555555555555556, \"#d8576b\"], [0.6666666666666666, \"#ed7953\"], [0.7777777777777778, \"#fb9f3a\"], [0.8888888888888888, \"#fdca26\"], [1.0, \"#f0f921\"]], \"type\": \"heatmap\"}], \"heatmapgl\": [{\"colorbar\": {\"outlinewidth\": 0, \"ticks\": \"\"}, \"colorscale\": [[0.0, \"#0d0887\"], [0.1111111111111111, \"#46039f\"], [0.2222222222222222, \"#7201a8\"], [0.3333333333333333, \"#9c179e\"], [0.4444444444444444, \"#bd3786\"], [0.5555555555555556, \"#d8576b\"], [0.6666666666666666, \"#ed7953\"], [0.7777777777777778, \"#fb9f3a\"], [0.8888888888888888, \"#fdca26\"], [1.0, \"#f0f921\"]], \"type\": \"heatmapgl\"}], \"histogram\": [{\"marker\": {\"colorbar\": {\"outlinewidth\": 0, \"ticks\": \"\"}}, \"type\": \"histogram\"}], \"histogram2d\": [{\"colorbar\": {\"outlinewidth\": 0, \"ticks\": \"\"}, \"colorscale\": [[0.0, \"#0d0887\"], [0.1111111111111111, \"#46039f\"], [0.2222222222222222, \"#7201a8\"], [0.3333333333333333, \"#9c179e\"], [0.4444444444444444, \"#bd3786\"], [0.5555555555555556, \"#d8576b\"], [0.6666666666666666, \"#ed7953\"], [0.7777777777777778, \"#fb9f3a\"], [0.8888888888888888, \"#fdca26\"], [1.0, \"#f0f921\"]], \"type\": \"histogram2d\"}], \"histogram2dcontour\": [{\"colorbar\": {\"outlinewidth\": 0, \"ticks\": \"\"}, \"colorscale\": [[0.0, \"#0d0887\"], [0.1111111111111111, \"#46039f\"], [0.2222222222222222, \"#7201a8\"], [0.3333333333333333, \"#9c179e\"], [0.4444444444444444, \"#bd3786\"], [0.5555555555555556, \"#d8576b\"], [0.6666666666666666, \"#ed7953\"], [0.7777777777777778, \"#fb9f3a\"], [0.8888888888888888, \"#fdca26\"], [1.0, \"#f0f921\"]], \"type\": \"histogram2dcontour\"}], \"mesh3d\": [{\"colorbar\": {\"outlinewidth\": 0, \"ticks\": \"\"}, \"type\": \"mesh3d\"}], \"parcoords\": [{\"line\": {\"colorbar\": {\"outlinewidth\": 0, \"ticks\": \"\"}}, \"type\": \"parcoords\"}], \"pie\": [{\"automargin\": true, \"type\": \"pie\"}], \"scatter\": [{\"marker\": {\"colorbar\": {\"outlinewidth\": 0, \"ticks\": \"\"}}, \"type\": \"scatter\"}], \"scatter3d\": [{\"line\": {\"colorbar\": {\"outlinewidth\": 0, \"ticks\": \"\"}}, \"marker\": {\"colorbar\": {\"outlinewidth\": 0, \"ticks\": \"\"}}, \"type\": \"scatter3d\"}], \"scattercarpet\": [{\"marker\": {\"colorbar\": {\"outlinewidth\": 0, \"ticks\": \"\"}}, \"type\": \"scattercarpet\"}], \"scattergeo\": [{\"marker\": {\"colorbar\": {\"outlinewidth\": 0, \"ticks\": \"\"}}, \"type\": \"scattergeo\"}], \"scattergl\": [{\"marker\": {\"colorbar\": {\"outlinewidth\": 0, \"ticks\": \"\"}}, \"type\": \"scattergl\"}], \"scattermapbox\": [{\"marker\": {\"colorbar\": {\"outlinewidth\": 0, \"ticks\": \"\"}}, \"type\": \"scattermapbox\"}], \"scatterpolar\": [{\"marker\": {\"colorbar\": {\"outlinewidth\": 0, \"ticks\": \"\"}}, \"type\": \"scatterpolar\"}], \"scatterpolargl\": [{\"marker\": {\"colorbar\": {\"outlinewidth\": 0, \"ticks\": \"\"}}, \"type\": \"scatterpolargl\"}], \"scatterternary\": [{\"marker\": {\"colorbar\": {\"outlinewidth\": 0, \"ticks\": \"\"}}, \"type\": \"scatterternary\"}], \"surface\": [{\"colorbar\": {\"outlinewidth\": 0, \"ticks\": \"\"}, \"colorscale\": [[0.0, \"#0d0887\"], [0.1111111111111111, \"#46039f\"], [0.2222222222222222, \"#7201a8\"], [0.3333333333333333, \"#9c179e\"], [0.4444444444444444, \"#bd3786\"], [0.5555555555555556, \"#d8576b\"], [0.6666666666666666, \"#ed7953\"], [0.7777777777777778, \"#fb9f3a\"], [0.8888888888888888, \"#fdca26\"], [1.0, \"#f0f921\"]], \"type\": \"surface\"}], \"table\": [{\"cells\": {\"fill\": {\"color\": \"#EBF0F8\"}, \"line\": {\"color\": \"white\"}}, \"header\": {\"fill\": {\"color\": \"#C8D4E3\"}, \"line\": {\"color\": \"white\"}}, \"type\": \"table\"}]}, \"layout\": {\"annotationdefaults\": {\"arrowcolor\": \"#2a3f5f\", \"arrowhead\": 0, \"arrowwidth\": 1}, \"coloraxis\": {\"colorbar\": {\"outlinewidth\": 0, \"ticks\": \"\"}}, \"colorscale\": {\"diverging\": [[0, \"#8e0152\"], [0.1, \"#c51b7d\"], [0.2, \"#de77ae\"], [0.3, \"#f1b6da\"], [0.4, \"#fde0ef\"], [0.5, \"#f7f7f7\"], [0.6, \"#e6f5d0\"], [0.7, \"#b8e186\"], [0.8, \"#7fbc41\"], [0.9, \"#4d9221\"], [1, \"#276419\"]], \"sequential\": [[0.0, \"#0d0887\"], [0.1111111111111111, \"#46039f\"], [0.2222222222222222, \"#7201a8\"], [0.3333333333333333, \"#9c179e\"], [0.4444444444444444, \"#bd3786\"], [0.5555555555555556, \"#d8576b\"], [0.6666666666666666, \"#ed7953\"], [0.7777777777777778, \"#fb9f3a\"], [0.8888888888888888, \"#fdca26\"], [1.0, \"#f0f921\"]], \"sequentialminus\": [[0.0, \"#0d0887\"], [0.1111111111111111, \"#46039f\"], [0.2222222222222222, \"#7201a8\"], [0.3333333333333333, \"#9c179e\"], [0.4444444444444444, \"#bd3786\"], [0.5555555555555556, \"#d8576b\"], [0.6666666666666666, \"#ed7953\"], [0.7777777777777778, \"#fb9f3a\"], [0.8888888888888888, \"#fdca26\"], [1.0, \"#f0f921\"]]}, \"colorway\": [\"#636efa\", \"#EF553B\", \"#00cc96\", \"#ab63fa\", \"#FFA15A\", \"#19d3f3\", \"#FF6692\", \"#B6E880\", \"#FF97FF\", \"#FECB52\"], \"font\": {\"color\": \"#2a3f5f\"}, \"geo\": {\"bgcolor\": \"white\", \"lakecolor\": \"white\", \"landcolor\": \"#E5ECF6\", \"showlakes\": true, \"showland\": true, \"subunitcolor\": \"white\"}, \"hoverlabel\": {\"align\": \"left\"}, \"hovermode\": \"closest\", \"mapbox\": {\"style\": \"light\"}, \"paper_bgcolor\": \"white\", \"plot_bgcolor\": \"#E5ECF6\", \"polar\": {\"angularaxis\": {\"gridcolor\": \"white\", \"linecolor\": \"white\", \"ticks\": \"\"}, \"bgcolor\": \"#E5ECF6\", \"radialaxis\": {\"gridcolor\": \"white\", \"linecolor\": \"white\", \"ticks\": \"\"}}, \"scene\": {\"xaxis\": {\"backgroundcolor\": \"#E5ECF6\", \"gridcolor\": \"white\", \"gridwidth\": 2, \"linecolor\": \"white\", \"showbackground\": true, \"ticks\": \"\", \"zerolinecolor\": \"white\"}, \"yaxis\": {\"backgroundcolor\": \"#E5ECF6\", \"gridcolor\": \"white\", \"gridwidth\": 2, \"linecolor\": \"white\", \"showbackground\": true, \"ticks\": \"\", \"zerolinecolor\": \"white\"}, \"zaxis\": {\"backgroundcolor\": \"#E5ECF6\", \"gridcolor\": \"white\", \"gridwidth\": 2, \"linecolor\": \"white\", \"showbackground\": true, \"ticks\": \"\", \"zerolinecolor\": \"white\"}}, \"shapedefaults\": {\"line\": {\"color\": \"#2a3f5f\"}}, \"ternary\": {\"aaxis\": {\"gridcolor\": \"white\", \"linecolor\": \"white\", \"ticks\": \"\"}, \"baxis\": {\"gridcolor\": \"white\", \"linecolor\": \"white\", \"ticks\": \"\"}, \"bgcolor\": \"#E5ECF6\", \"caxis\": {\"gridcolor\": \"white\", \"linecolor\": \"white\", \"ticks\": \"\"}}, \"title\": {\"x\": 0.05}, \"xaxis\": {\"automargin\": true, \"gridcolor\": \"white\", \"linecolor\": \"white\", \"ticks\": \"\", \"title\": {\"standoff\": 15}, \"zerolinecolor\": \"white\", \"zerolinewidth\": 2}, \"yaxis\": {\"automargin\": true, \"gridcolor\": \"white\", \"linecolor\": \"white\", \"ticks\": \"\", \"title\": {\"standoff\": 15}, \"zerolinecolor\": \"white\", \"zerolinewidth\": 2}}}},\n",
       "                        {\"responsive\": true}\n",
       "                    ).then(function(){\n",
       "                            \n",
       "var gd = document.getElementById('29bb9e5e-5ff1-48bf-a4e0-78cb1506189f');\n",
       "var x = new MutationObserver(function (mutations, observer) {{\n",
       "        var display = window.getComputedStyle(gd).display;\n",
       "        if (!display || display === 'none') {{\n",
       "            console.log([gd, 'removed!']);\n",
       "            Plotly.purge(gd);\n",
       "            observer.disconnect();\n",
       "        }}\n",
       "}});\n",
       "\n",
       "// Listen for the removal of the full notebook cells\n",
       "var notebookContainer = gd.closest('#notebook-container');\n",
       "if (notebookContainer) {{\n",
       "    x.observe(notebookContainer, {childList: true});\n",
       "}}\n",
       "\n",
       "// Listen for the clearing of the current output cell\n",
       "var outputEl = gd.closest('.output');\n",
       "if (outputEl) {{\n",
       "    x.observe(outputEl, {childList: true});\n",
       "}}\n",
       "\n",
       "                        })\n",
       "                };\n",
       "                });\n",
       "            </script>\n",
       "        </div>"
      ]
     },
     "metadata": {},
     "output_type": "display_data"
    }
   ],
   "source": [
    "from sklearn.svm import OneClassSVM\n",
    "import plotly.offline as py\n",
    "import plotly.graph_objs as go\n",
    "py.init_notebook_mode(connected=True)\n",
    "\n",
    "one_svm = OneClassSVM(nu=0.1, kernel='rbf', random_state=2018)\n",
    "\n",
    "one_svm.fit(f)\n",
    "pre_test_outliers = one_svm.predict(f)\n",
    "\n",
    "total_test_data = np.hstack((f, pre_test_outliers.reshape(-1,1)))\n",
    "\n",
    "\n",
    "normal_test_data = total_test_data[total_test_data[:, -1] == 1]\n",
    "\n",
    "outlier_test_data = total_test_data[total_test_data[:, -1] == -1]\n",
    "\n",
    "print('Anomaly detection is：{}/{}'.format(len(outlier_test_data), len(total_test_data)))\n",
    "\n",
    "py.iplot([go.Scatter3d(x=total_test_data[:,3], y=total_test_data[:,4], z =total_test_data[:,5], \n",
    "                       mode='markers',marker=dict(color=total_test_data[:, -1], size=5))])\n",
    "\n"
   ]
  },
  {
   "cell_type": "code",
   "execution_count": 107,
   "metadata": {},
   "outputs": [
    {
     "name": "stdout",
     "output_type": "stream",
     "text": [
      "[[34.57446809  0.          0.          1.55189137  0.         34.37119391\n",
      "  14.52416433 11.18012422  8.         -1.        ]\n",
      " [31.          5.37463595  0.76780514  4.42149854  0.34418851 29.17572873\n",
      "  14.73148228 12.35827664  8.         -1.        ]\n",
      " [32.6055313   6.22065728  0.55751174  5.60446009  0.41079812 23.82065117\n",
      "  16.27103239 14.93902439  9.         -1.        ]\n",
      " [30.26052104  4.47466982  1.43899073  4.92805046  0.27597083 26.27658826\n",
      "  15.04675979 14.21709894 11.         -1.        ]\n",
      " [48.13664596  2.00739567  0.63391442  5.01848917  0.         31.52659024\n",
      "  15.06902283 12.98174442  7.         -1.        ]\n",
      " [28.07646356  6.21428571  1.66666667  4.28571429  0.         23.52898938\n",
      "  15.4014776  15.17960603  9.         -1.        ]\n",
      " [34.75274725  2.66356349  1.21541246  5.35298681  0.31031808 30.64809152\n",
      "  14.46638543 12.8342246  12.         -1.        ]\n",
      " [20.76628352  2.8893828   2.25679603  3.89810224  0.53000513 30.04544163\n",
      "  13.85019726 12.02303816 11.         -1.        ]\n",
      " [19.73180077  5.45843046  0.93240093  3.01087801  0.         29.27534838\n",
      "  13.87690828 13.84493671 12.         -1.        ]\n",
      " [27.94701987  9.23648178  1.06753307  4.1076816   0.         23.80300701\n",
      "  15.56406134 15.94877765 10.         -1.        ]\n",
      " [39.48497854  0.          0.          3.05466238  0.         29.28648062\n",
      "  15.29723911 13.94658754  8.         -1.        ]\n",
      " [52.92266187  8.89903401  4.32711393  7.43681355  2.15694059 30.86618778\n",
      "  14.53349917 12.46252677  7.         -1.        ]\n",
      " [18.45303867  6.22052549  0.98809791  2.71726926  0.         24.08041735\n",
      "  15.08422816 15.48250265 13.         -1.        ]\n",
      " [28.46975089  0.          0.          2.97748729  0.         30.73581729\n",
      "  14.39391225 15.67695962 11.         -1.        ]\n",
      " [35.56701031  4.06923778  0.88065594  4.94989371  0.33404191 22.76438604\n",
      "  16.28745451 15.36050157 10.         -1.        ]\n",
      " [31.92307692  3.29010567  0.62439962  5.16330452  0.88856868 34.55096731\n",
      "  14.06109983 12.25071225 10.         -1.        ]\n",
      " [20.70217918  3.93910101  0.77332044  3.09328178  0.         33.46111817\n",
      "  13.65754509 13.02408564 10.         -1.        ]\n",
      " [31.52639087  3.86019823  1.0172144   4.51225874  0.28690663 23.35106284\n",
      "  15.33653853 17.54601227  9.         -1.        ]\n",
      " [33.6906585   3.57645734  0.56322163  4.61841735  0.         26.9167613\n",
      "  15.48406445 14.72148541 12.         -1.        ]\n",
      " [46.86468647  3.84008417  0.          3.73487638  0.         25.87748\n",
      "  16.14233873 14.58823529 11.         -1.        ]\n",
      " [25.40106952  4.4652312   0.61771973  4.14754677  0.19414049 32.39023909\n",
      "  13.94165262 12.40657698  6.         -1.        ]\n",
      " [51.57068063 11.25507523  4.44829233  7.80391689  2.12562694 31.80174646\n",
      "  14.77269256 11.          6.         -1.        ]\n",
      " [30.81081081  1.37187653  0.          2.64576188  0.         25.97646802\n",
      "  15.61205654 15.2892562   8.         -1.        ]\n",
      " [43.83333333  2.02968797  0.78764011  6.24053317  0.42411391 28.82435453\n",
      "  15.23742499 13.37837838  8.         -1.        ]\n",
      " [38.26086957  0.60821085  0.          3.24379118  0.70957932 29.33005106\n",
      "  14.95955051 13.32046332  7.         -1.        ]\n",
      " [29.88721805  5.6993312   0.66879907  2.73335272  0.         23.53769428\n",
      "  15.2102513  17.23237598 10.         -1.        ]\n",
      " [37.06666667  3.56723774  1.85402488  4.9753579   0.8448721  26.60906593\n",
      "  14.80827569 15.54621849  9.         -1.        ]\n",
      " [26.48514851  5.36457193  0.65688636  3.83183709  0.         25.17515703\n",
      "  15.0724826  15.28066528 12.         -1.        ]\n",
      " [25.88495575  2.8700565   0.54237288  4.09039548  0.49717514 32.80609278\n",
      "  14.05230413 12.43194192 10.         -1.        ]\n",
      " [48.67724868  1.36861314  0.          4.19708029  0.         31.34069762\n",
      "  15.34972367 12.          6.         -1.        ]\n",
      " [38.07390817  2.4822695   0.50062578  6.11180643  0.8135169  34.27396154\n",
      "  13.91961758 12.40569992  6.         -1.        ]\n",
      " [39.24611973  1.92592593  0.48148148  5.03703704  0.         22.85095177\n",
      "  15.75802593 19.66101695  9.         -1.        ]\n",
      " [26.86308492  3.74832664  1.67336011  4.38420348  0.         23.89942358\n",
      "  15.44740894 17.86786787 10.         -1.        ]\n",
      " [39.58333333  0.          0.          5.82278481  0.         37.90282546\n",
      "  14.20928375 11.98501873  8.         -1.        ]\n",
      " [26.55538695  4.6349591   2.12056952  4.0290821   0.         28.56646655\n",
      "  14.57179162 12.46943765  9.         -1.        ]\n",
      " [26.36203866  1.77746179  0.56878777  3.30607892  0.39104159 27.95274945\n",
      "  14.63334801 15.59888579 10.         -1.        ]\n",
      " [20.77151335  1.70886076  0.          2.46835443  0.         27.80871749\n",
      "  15.42655588 14.85148515 13.         -1.        ]\n",
      " [38.85931559  3.92050095  2.34141029  6.3844269   1.60631636 36.71473539\n",
      "  13.85167305 12.30769231  8.         -1.        ]\n",
      " [24.64454976  3.9793076   1.17389574  4.35734182  0.21886192 35.71676937\n",
      "  13.63145665  9.96138996  9.         -1.        ]\n",
      " [24.44011685  4.01373685  1.65271517  4.55033269  0.         23.66394407\n",
      "  14.62031503 16.45933014 10.         -1.        ]]\n"
     ]
    }
   ],
   "source": [
    "print(outlier_test_data)"
   ]
  },
  {
   "cell_type": "code",
   "execution_count": 112,
   "metadata": {},
   "outputs": [
    {
     "data": {
      "image/png": "[encoded data removed]",
      "text/plain": [
       "<Figure size 640x480 with 1 Axes>"
      ]
     },
     "metadata": {},
     "output_type": "display_data"
    }
   ],
   "source": [
    "import matplotlib.pyplot as plt; plt.rcdefaults()\n",
    "import matplotlib.pyplot as plt\n",
    "\n",
    "objects = ('1981', '1982','1983','1984','1985','1986','1987','1988')\n",
    "y_pos = np.arange(len(objects))\n",
    "performance = [2,2,4,10,6,6,6,4]\n",
    "\n",
    "plt.bar(y_pos, performance, align='center', alpha=0.5)\n",
    "plt.xticks(y_pos, objects)\n",
    "plt.ylabel('Number')\n",
    "plt.title('Year')\n",
    "\n",
    "plt.show()"
   ]
  },
  {
   "cell_type": "code",
   "execution_count": null,
   "metadata": {},
   "outputs": [],
   "source": []
  }
 ],
 "metadata": {
  "kernelspec": {
   "display_name": "Python 3",
   "language": "python",
   "name": "python3"
  },
  "language_info": {
   "codemirror_mode": {
    "name": "ipython",
    "version": 3
   },
   "file_extension": ".py",
   "mimetype": "text/x-python",
   "name": "python",
   "nbconvert_exporter": "python",
   "pygments_lexer": "ipython3",
   "version": "3.7.3"
  }
 },
 "nbformat": 4,
 "nbformat_minor": 2
}
