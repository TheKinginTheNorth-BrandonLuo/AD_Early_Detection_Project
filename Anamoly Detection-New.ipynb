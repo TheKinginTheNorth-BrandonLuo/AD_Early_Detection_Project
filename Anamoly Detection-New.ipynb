{
 "cells": [
  {
   "cell_type": "code",
   "execution_count": 26,
   "metadata": {},
   "outputs": [
    {
     "data": {
      "text/html": [
       "<div>\n",
       "<style scoped>\n",
       "    .dataframe tbody tr th:only-of-type {\n",
       "        vertical-align: middle;\n",
       "    }\n",
       "\n",
       "    .dataframe tbody tr th {\n",
       "        vertical-align: top;\n",
       "    }\n",
       "\n",
       "    .dataframe thead th {\n",
       "        text-align: right;\n",
       "    }\n",
       "</style>\n",
       "<table border=\"1\" class=\"dataframe\">\n",
       "  <thead>\n",
       "    <tr style=\"text-align: right;\">\n",
       "      <th></th>\n",
       "      <th>CC</th>\n",
       "      <th>CD</th>\n",
       "      <th>DT</th>\n",
       "      <th>FW</th>\n",
       "      <th>IN</th>\n",
       "      <th>JJ</th>\n",
       "      <th>MD</th>\n",
       "      <th>NN</th>\n",
       "      <th>NNS</th>\n",
       "      <th>NNP</th>\n",
       "      <th>...</th>\n",
       "      <th>BM</th>\n",
       "      <th>TTR</th>\n",
       "      <th>SICH</th>\n",
       "      <th>A_R_I</th>\n",
       "      <th>F_K_R</th>\n",
       "      <th>getFamiliarityScore</th>\n",
       "      <th>getConcretenessScore</th>\n",
       "      <th>getImagabilityScore</th>\n",
       "      <th>getAoaScore</th>\n",
       "      <th>getSUBTLWordScores</th>\n",
       "    </tr>\n",
       "  </thead>\n",
       "  <tbody>\n",
       "    <tr>\n",
       "      <th>0</th>\n",
       "      <td>6</td>\n",
       "      <td>12</td>\n",
       "      <td>240</td>\n",
       "      <td>7</td>\n",
       "      <td>36</td>\n",
       "      <td>345</td>\n",
       "      <td>4</td>\n",
       "      <td>2094</td>\n",
       "      <td>0</td>\n",
       "      <td>506</td>\n",
       "      <td>...</td>\n",
       "      <td>14.896320</td>\n",
       "      <td>30.629371</td>\n",
       "      <td>14.611872</td>\n",
       "      <td>5</td>\n",
       "      <td>6</td>\n",
       "      <td>600.909091</td>\n",
       "      <td>300.444444</td>\n",
       "      <td>353.681818</td>\n",
       "      <td>2.699545</td>\n",
       "      <td>0.0</td>\n",
       "    </tr>\n",
       "    <tr>\n",
       "      <th>1</th>\n",
       "      <td>51</td>\n",
       "      <td>59</td>\n",
       "      <td>1919</td>\n",
       "      <td>68</td>\n",
       "      <td>369</td>\n",
       "      <td>2887</td>\n",
       "      <td>21</td>\n",
       "      <td>16267</td>\n",
       "      <td>15</td>\n",
       "      <td>3458</td>\n",
       "      <td>...</td>\n",
       "      <td>14.960296</td>\n",
       "      <td>20.806962</td>\n",
       "      <td>18.631179</td>\n",
       "      <td>12</td>\n",
       "      <td>18</td>\n",
       "      <td>625.459459</td>\n",
       "      <td>334.202247</td>\n",
       "      <td>356.290541</td>\n",
       "      <td>2.813716</td>\n",
       "      <td>0.0</td>\n",
       "    </tr>\n",
       "    <tr>\n",
       "      <th>2</th>\n",
       "      <td>44</td>\n",
       "      <td>58</td>\n",
       "      <td>1330</td>\n",
       "      <td>48</td>\n",
       "      <td>331</td>\n",
       "      <td>1839</td>\n",
       "      <td>25</td>\n",
       "      <td>10869</td>\n",
       "      <td>17</td>\n",
       "      <td>2227</td>\n",
       "      <td>...</td>\n",
       "      <td>15.251379</td>\n",
       "      <td>22.356495</td>\n",
       "      <td>15.810811</td>\n",
       "      <td>11</td>\n",
       "      <td>16</td>\n",
       "      <td>621.897436</td>\n",
       "      <td>334.069767</td>\n",
       "      <td>338.217949</td>\n",
       "      <td>2.802949</td>\n",
       "      <td>0.0</td>\n",
       "    </tr>\n",
       "    <tr>\n",
       "      <th>3</th>\n",
       "      <td>76</td>\n",
       "      <td>247</td>\n",
       "      <td>1946</td>\n",
       "      <td>44</td>\n",
       "      <td>313</td>\n",
       "      <td>2995</td>\n",
       "      <td>38</td>\n",
       "      <td>16966</td>\n",
       "      <td>21</td>\n",
       "      <td>3744</td>\n",
       "      <td>...</td>\n",
       "      <td>14.871957</td>\n",
       "      <td>20.582878</td>\n",
       "      <td>16.017699</td>\n",
       "      <td>7</td>\n",
       "      <td>12</td>\n",
       "      <td>627.807692</td>\n",
       "      <td>332.955224</td>\n",
       "      <td>287.495192</td>\n",
       "      <td>2.847260</td>\n",
       "      <td>0.0</td>\n",
       "    </tr>\n",
       "    <tr>\n",
       "      <th>4</th>\n",
       "      <td>31</td>\n",
       "      <td>95</td>\n",
       "      <td>1123</td>\n",
       "      <td>38</td>\n",
       "      <td>158</td>\n",
       "      <td>1647</td>\n",
       "      <td>58</td>\n",
       "      <td>8978</td>\n",
       "      <td>11</td>\n",
       "      <td>2071</td>\n",
       "      <td>...</td>\n",
       "      <td>15.722231</td>\n",
       "      <td>21.211150</td>\n",
       "      <td>14.501511</td>\n",
       "      <td>6</td>\n",
       "      <td>8</td>\n",
       "      <td>626.095238</td>\n",
       "      <td>327.437500</td>\n",
       "      <td>315.061224</td>\n",
       "      <td>2.830204</td>\n",
       "      <td>0.0</td>\n",
       "    </tr>\n",
       "  </tbody>\n",
       "</table>\n",
       "<p>5 rows × 47 columns</p>\n",
       "</div>"
      ],
      "text/plain": [
       "   CC   CD    DT  FW   IN    JJ  MD     NN  NNS   NNP  ...         BM  \\\n",
       "0   6   12   240   7   36   345   4   2094    0   506  ...  14.896320   \n",
       "1  51   59  1919  68  369  2887  21  16267   15  3458  ...  14.960296   \n",
       "2  44   58  1330  48  331  1839  25  10869   17  2227  ...  15.251379   \n",
       "3  76  247  1946  44  313  2995  38  16966   21  3744  ...  14.871957   \n",
       "4  31   95  1123  38  158  1647  58   8978   11  2071  ...  15.722231   \n",
       "\n",
       "         TTR       SICH  A_R_I  F_K_R  getFamiliarityScore  \\\n",
       "0  30.629371  14.611872      5      6           600.909091   \n",
       "1  20.806962  18.631179     12     18           625.459459   \n",
       "2  22.356495  15.810811     11     16           621.897436   \n",
       "3  20.582878  16.017699      7     12           627.807692   \n",
       "4  21.211150  14.501511      6      8           626.095238   \n",
       "\n",
       "   getConcretenessScore  getImagabilityScore  getAoaScore  getSUBTLWordScores  \n",
       "0            300.444444           353.681818     2.699545                 0.0  \n",
       "1            334.202247           356.290541     2.813716                 0.0  \n",
       "2            334.069767           338.217949     2.802949                 0.0  \n",
       "3            332.955224           287.495192     2.847260                 0.0  \n",
       "4            327.437500           315.061224     2.830204                 0.0  \n",
       "\n",
       "[5 rows x 47 columns]"
      ]
     },
     "execution_count": 26,
     "metadata": {},
     "output_type": "execute_result"
    }
   ],
   "source": [
    "import re\n",
    "import numpy as np\n",
    "import pandas as pd\n",
    "import matplotlib.pyplot as plt\n",
    "import seaborn as sns\n",
    "import collections\n",
    "\n",
    "import warnings\n",
    "warnings.filterwarnings('ignore')\n",
    "\n",
    "%matplotlib inline\n",
    "df = pd.read_csv(\"added_other_features_final.csv\")\n",
    "df = df.drop(columns = ['date','year'])\n",
    "df.head()"
   ]
  },
  {
   "cell_type": "code",
   "execution_count": 27,
   "metadata": {},
   "outputs": [],
   "source": [
    "f = df.values.tolist()"
   ]
  },
  {
   "cell_type": "code",
   "execution_count": 28,
   "metadata": {},
   "outputs": [
    {
     "data": {
      "text/plain": [
       "[44.0,\n",
       " 58.0,\n",
       " 1330.0,\n",
       " 48.0,\n",
       " 331.0,\n",
       " 1839.0,\n",
       " 25.0,\n",
       " 10869.0,\n",
       " 17.0,\n",
       " 2227.0,\n",
       " 20.0,\n",
       " 1.0,\n",
       " 0.0,\n",
       " 14.0,\n",
       " 0.0,\n",
       " 74.0,\n",
       " 200.0,\n",
       " 1272.0,\n",
       " 839.0,\n",
       " 0.0,\n",
       " 1.0,\n",
       " 2.0,\n",
       " 0.0,\n",
       " 147.0,\n",
       " 697.0,\n",
       " 457.0,\n",
       " 178.0,\n",
       " 25.53802008608321,\n",
       " 21.057401812688823,\n",
       " 5.377643504531722,\n",
       " 8.731117824773412,\n",
       " 46.767371601208445,\n",
       " 1.1782477341389728,\n",
       " 3.8368580060422963,\n",
       " 4.290030211480363,\n",
       " 0.4229607250755287,\n",
       " 22.804108618230487,\n",
       " 15.251378797503133,\n",
       " 22.356495468277945,\n",
       " 15.810810810810812,\n",
       " 11.0,\n",
       " 16.0,\n",
       " 621.8974358974359,\n",
       " 334.06976744186045,\n",
       " 338.2179487179488,\n",
       " 2.8029487179487145,\n",
       " 0.0]"
      ]
     },
     "execution_count": 28,
     "metadata": {},
     "output_type": "execute_result"
    }
   ],
   "source": [
    "f[2]"
   ]
  },
  {
   "cell_type": "code",
   "execution_count": 29,
   "metadata": {
    "scrolled": true
   },
   "outputs": [
    {
     "data": {
      "text/html": [
       "        <script type=\"text/javascript\">\n",
       "        window.PlotlyConfig = {MathJaxConfig: 'local'};\n",
       "        if (window.MathJax) {MathJax.Hub.Config({SVG: {font: \"STIX-Web\"}});}\n",
       "        if (typeof require !== 'undefined') {\n",
       "        require.undef(\"plotly\");\n",
       "        requirejs.config({\n",
       "            paths: {\n",
       "                'plotly': ['https://cdn.plot.ly/plotly-latest.min']\n",
       "            }\n",
       "        });\n",
       "        require(['plotly'], function(Plotly) {\n",
       "            window._Plotly = Plotly;\n",
       "        });\n",
       "        }\n",
       "        </script>\n",
       "        "
      ]
     },
     "metadata": {},
     "output_type": "display_data"
    },
    {
     "name": "stdout",
     "output_type": "stream",
     "text": [
      "Anomaly detection is：77/107\n"
     ]
    },
    {
     "data": {
      "application/vnd.plotly.v1+json": {
       "config": {
        "linkText": "Export to plot.ly",
        "plotlyServerURL": "https://plot.ly",
        "showLink": false
       },
       "data": [
        {
         "marker": {
          "color": [
           1,
           1,
           1,
           1,
           1,
           1,
           1,
           1,
           1,
           1,
           -1,
           -1,
           -1,
           -1,
           -1,
           -1,
           -1,
           -1,
           -1,
           -1,
           -1,
           -1,
           -1,
           -1,
           -1,
           -1,
           -1,
           -1,
           -1,
           -1,
           -1,
           -1,
           -1,
           -1,
           1,
           1,
           1,
           1,
           1,
           -1,
           -1,
           -1,
           -1,
           -1,
           -1,
           -1,
           -1,
           -1,
           -1,
           -1,
           -1,
           -1,
           -1,
           -1,
           -1,
           -1,
           -1,
           -1,
           -1,
           -1,
           -1,
           -1,
           -1,
           -1,
           -1,
           -1,
           -1,
           -1,
           -1,
           -1,
           -1,
           -1,
           -1,
           -1,
           -1,
           -1,
           -1,
           -1,
           -1,
           -1,
           -1,
           -1,
           -1,
           -1,
           -1,
           -1,
           -1,
           -1,
           -1,
           -1,
           -1,
           1,
           1,
           1,
           1,
           1,
           -1,
           1,
           1,
           1,
           1,
           1,
           1,
           1,
           1,
           1,
           1
          ],
          "size": 5
         },
         "mode": "markers",
         "type": "scatter3d",
         "x": [
          6,
          51,
          44,
          76,
          31,
          52,
          29,
          206,
          20,
          14,
          41,
          70,
          45,
          35,
          14,
          75,
          38,
          5,
          17,
          39,
          10,
          81,
          29,
          72,
          70,
          64,
          38,
          40,
          16,
          175,
          16,
          51,
          7,
          48,
          64,
          52,
          68,
          28,
          56,
          51,
          51,
          243,
          40,
          20,
          26,
          28,
          58,
          74,
          35,
          4,
          16,
          38,
          75,
          6,
          69,
          80,
          19,
          35,
          11,
          42,
          64,
          15,
          67,
          48,
          23,
          34,
          12,
          7,
          82,
          65,
          22,
          44,
          53,
          91,
          66,
          56,
          12,
          52,
          79,
          52,
          68,
          92,
          47,
          50,
          47,
          96,
          62,
          40,
          43,
          37,
          69,
          208,
          32,
          83,
          18,
          26,
          8,
          28,
          40,
          41,
          67,
          62,
          49,
          55,
          38,
          51,
          74
         ],
         "y": [
          12,
          59,
          58,
          247,
          95,
          237,
          21,
          545,
          39,
          11,
          177,
          121,
          63,
          48,
          23,
          69,
          47,
          5,
          39,
          39,
          24,
          114,
          25,
          73,
          48,
          87,
          38,
          41,
          10,
          646,
          31,
          90,
          17,
          35,
          83,
          69,
          185,
          13,
          55,
          55,
          84,
          152,
          59,
          19,
          45,
          70,
          93,
          156,
          46,
          45,
          27,
          75,
          120,
          26,
          221,
          93,
          73,
          71,
          14,
          50,
          110,
          9,
          154,
          35,
          14,
          38,
          16,
          10,
          256,
          122,
          22,
          138,
          33,
          260,
          39,
          97,
          55,
          193,
          221,
          62,
          90,
          192,
          59,
          97,
          64,
          288,
          63,
          90,
          13,
          218,
          52,
          275,
          48,
          121,
          52,
          43,
          12,
          60,
          56,
          116,
          103,
          31,
          88,
          63,
          167,
          200,
          192
         ],
         "z": [
          240,
          1919,
          1330,
          1946,
          1123,
          1231,
          476,
          5467,
          661,
          424,
          1884,
          1339,
          1050,
          932,
          422,
          1901,
          1487,
          245,
          579,
          910,
          235,
          2649,
          780,
          1899,
          1938,
          2497,
          1181,
          1102,
          487,
          4884,
          655,
          1579,
          258,
          1002,
          1603,
          1306,
          1216,
          650,
          1203,
          1555,
          1743,
          5154,
          1693,
          637,
          712,
          1189,
          1424,
          1846,
          1080,
          262,
          533,
          1010,
          1309,
          419,
          1634,
          1593,
          991,
          1329,
          461,
          840,
          1914,
          462,
          1676,
          1726,
          702,
          1201,
          406,
          208,
          1472,
          1314,
          772,
          1256,
          1212,
          3397,
          1738,
          1386,
          423,
          1506,
          1658,
          872,
          1248,
          1758,
          1392,
          1889,
          1348,
          3583,
          1574,
          1590,
          836,
          951,
          1619,
          5741,
          1338,
          2145,
          700,
          699,
          256,
          973,
          893,
          1223,
          1665,
          1423,
          1482,
          1783,
          1035,
          1062,
          1960
         ]
        }
       ],
       "layout": {
        "template": {
         "data": {
          "bar": [
           {
            "error_x": {
             "color": "#2a3f5f"
            },
            "error_y": {
             "color": "#2a3f5f"
            },
            "marker": {
             "line": {
              "color": "#E5ECF6",
              "width": 0.5
             }
            },
            "type": "bar"
           }
          ],
          "barpolar": [
           {
            "marker": {
             "line": {
              "color": "#E5ECF6",
              "width": 0.5
             }
            },
            "type": "barpolar"
           }
          ],
          "carpet": [
           {
            "aaxis": {
             "endlinecolor": "#2a3f5f",
             "gridcolor": "white",
             "linecolor": "white",
             "minorgridcolor": "white",
             "startlinecolor": "#2a3f5f"
            },
            "baxis": {
             "endlinecolor": "#2a3f5f",
             "gridcolor": "white",
             "linecolor": "white",
             "minorgridcolor": "white",
             "startlinecolor": "#2a3f5f"
            },
            "type": "carpet"
           }
          ],
          "choropleth": [
           {
            "colorbar": {
             "outlinewidth": 0,
             "ticks": ""
            },
            "type": "choropleth"
           }
          ],
          "contour": [
           {
            "colorbar": {
             "outlinewidth": 0,
             "ticks": ""
            },
            "colorscale": [
             [
              0,
              "#0d0887"
             ],
             [
              0.1111111111111111,
              "#46039f"
             ],
             [
              0.2222222222222222,
              "#7201a8"
             ],
             [
              0.3333333333333333,
              "#9c179e"
             ],
             [
              0.4444444444444444,
              "#bd3786"
             ],
             [
              0.5555555555555556,
              "#d8576b"
             ],
             [
              0.6666666666666666,
              "#ed7953"
             ],
             [
              0.7777777777777778,
              "#fb9f3a"
             ],
             [
              0.8888888888888888,
              "#fdca26"
             ],
             [
              1,
              "#f0f921"
             ]
            ],
            "type": "contour"
           }
          ],
          "contourcarpet": [
           {
            "colorbar": {
             "outlinewidth": 0,
             "ticks": ""
            },
            "type": "contourcarpet"
           }
          ],
          "heatmap": [
           {
            "colorbar": {
             "outlinewidth": 0,
             "ticks": ""
            },
            "colorscale": [
             [
              0,
              "#0d0887"
             ],
             [
              0.1111111111111111,
              "#46039f"
             ],
             [
              0.2222222222222222,
              "#7201a8"
             ],
             [
              0.3333333333333333,
              "#9c179e"
             ],
             [
              0.4444444444444444,
              "#bd3786"
             ],
             [
              0.5555555555555556,
              "#d8576b"
             ],
             [
              0.6666666666666666,
              "#ed7953"
             ],
             [
              0.7777777777777778,
              "#fb9f3a"
             ],
             [
              0.8888888888888888,
              "#fdca26"
             ],
             [
              1,
              "#f0f921"
             ]
            ],
            "type": "heatmap"
           }
          ],
          "heatmapgl": [
           {
            "colorbar": {
             "outlinewidth": 0,
             "ticks": ""
            },
            "colorscale": [
             [
              0,
              "#0d0887"
             ],
             [
              0.1111111111111111,
              "#46039f"
             ],
             [
              0.2222222222222222,
              "#7201a8"
             ],
             [
              0.3333333333333333,
              "#9c179e"
             ],
             [
              0.4444444444444444,
              "#bd3786"
             ],
             [
              0.5555555555555556,
              "#d8576b"
             ],
             [
              0.6666666666666666,
              "#ed7953"
             ],
             [
              0.7777777777777778,
              "#fb9f3a"
             ],
             [
              0.8888888888888888,
              "#fdca26"
             ],
             [
              1,
              "#f0f921"
             ]
            ],
            "type": "heatmapgl"
           }
          ],
          "histogram": [
           {
            "marker": {
             "colorbar": {
              "outlinewidth": 0,
              "ticks": ""
             }
            },
            "type": "histogram"
           }
          ],
          "histogram2d": [
           {
            "colorbar": {
             "outlinewidth": 0,
             "ticks": ""
            },
            "colorscale": [
             [
              0,
              "#0d0887"
             ],
             [
              0.1111111111111111,
              "#46039f"
             ],
             [
              0.2222222222222222,
              "#7201a8"
             ],
             [
              0.3333333333333333,
              "#9c179e"
             ],
             [
              0.4444444444444444,
              "#bd3786"
             ],
             [
              0.5555555555555556,
              "#d8576b"
             ],
             [
              0.6666666666666666,
              "#ed7953"
             ],
             [
              0.7777777777777778,
              "#fb9f3a"
             ],
             [
              0.8888888888888888,
              "#fdca26"
             ],
             [
              1,
              "#f0f921"
             ]
            ],
            "type": "histogram2d"
           }
          ],
          "histogram2dcontour": [
           {
            "colorbar": {
             "outlinewidth": 0,
             "ticks": ""
            },
            "colorscale": [
             [
              0,
              "#0d0887"
             ],
             [
              0.1111111111111111,
              "#46039f"
             ],
             [
              0.2222222222222222,
              "#7201a8"
             ],
             [
              0.3333333333333333,
              "#9c179e"
             ],
             [
              0.4444444444444444,
              "#bd3786"
             ],
             [
              0.5555555555555556,
              "#d8576b"
             ],
             [
              0.6666666666666666,
              "#ed7953"
             ],
             [
              0.7777777777777778,
              "#fb9f3a"
             ],
             [
              0.8888888888888888,
              "#fdca26"
             ],
             [
              1,
              "#f0f921"
             ]
            ],
            "type": "histogram2dcontour"
           }
          ],
          "mesh3d": [
           {
            "colorbar": {
             "outlinewidth": 0,
             "ticks": ""
            },
            "type": "mesh3d"
           }
          ],
          "parcoords": [
           {
            "line": {
             "colorbar": {
              "outlinewidth": 0,
              "ticks": ""
             }
            },
            "type": "parcoords"
           }
          ],
          "pie": [
           {
            "automargin": true,
            "type": "pie"
           }
          ],
          "scatter": [
           {
            "marker": {
             "colorbar": {
              "outlinewidth": 0,
              "ticks": ""
             }
            },
            "type": "scatter"
           }
          ],
          "scatter3d": [
           {
            "line": {
             "colorbar": {
              "outlinewidth": 0,
              "ticks": ""
             }
            },
            "marker": {
             "colorbar": {
              "outlinewidth": 0,
              "ticks": ""
             }
            },
            "type": "scatter3d"
           }
          ],
          "scattercarpet": [
           {
            "marker": {
             "colorbar": {
              "outlinewidth": 0,
              "ticks": ""
             }
            },
            "type": "scattercarpet"
           }
          ],
          "scattergeo": [
           {
            "marker": {
             "colorbar": {
              "outlinewidth": 0,
              "ticks": ""
             }
            },
            "type": "scattergeo"
           }
          ],
          "scattergl": [
           {
            "marker": {
             "colorbar": {
              "outlinewidth": 0,
              "ticks": ""
             }
            },
            "type": "scattergl"
           }
          ],
          "scattermapbox": [
           {
            "marker": {
             "colorbar": {
              "outlinewidth": 0,
              "ticks": ""
             }
            },
            "type": "scattermapbox"
           }
          ],
          "scatterpolar": [
           {
            "marker": {
             "colorbar": {
              "outlinewidth": 0,
              "ticks": ""
             }
            },
            "type": "scatterpolar"
           }
          ],
          "scatterpolargl": [
           {
            "marker": {
             "colorbar": {
              "outlinewidth": 0,
              "ticks": ""
             }
            },
            "type": "scatterpolargl"
           }
          ],
          "scatterternary": [
           {
            "marker": {
             "colorbar": {
              "outlinewidth": 0,
              "ticks": ""
             }
            },
            "type": "scatterternary"
           }
          ],
          "surface": [
           {
            "colorbar": {
             "outlinewidth": 0,
             "ticks": ""
            },
            "colorscale": [
             [
              0,
              "#0d0887"
             ],
             [
              0.1111111111111111,
              "#46039f"
             ],
             [
              0.2222222222222222,
              "#7201a8"
             ],
             [
              0.3333333333333333,
              "#9c179e"
             ],
             [
              0.4444444444444444,
              "#bd3786"
             ],
             [
              0.5555555555555556,
              "#d8576b"
             ],
             [
              0.6666666666666666,
              "#ed7953"
             ],
             [
              0.7777777777777778,
              "#fb9f3a"
             ],
             [
              0.8888888888888888,
              "#fdca26"
             ],
             [
              1,
              "#f0f921"
             ]
            ],
            "type": "surface"
           }
          ],
          "table": [
           {
            "cells": {
             "fill": {
              "color": "#EBF0F8"
             },
             "line": {
              "color": "white"
             }
            },
            "header": {
             "fill": {
              "color": "#C8D4E3"
             },
             "line": {
              "color": "white"
             }
            },
            "type": "table"
           }
          ]
         },
         "layout": {
          "annotationdefaults": {
           "arrowcolor": "#2a3f5f",
           "arrowhead": 0,
           "arrowwidth": 1
          },
          "coloraxis": {
           "colorbar": {
            "outlinewidth": 0,
            "ticks": ""
           }
          },
          "colorscale": {
           "diverging": [
            [
             0,
             "#8e0152"
            ],
            [
             0.1,
             "#c51b7d"
            ],
            [
             0.2,
             "#de77ae"
            ],
            [
             0.3,
             "#f1b6da"
            ],
            [
             0.4,
             "#fde0ef"
            ],
            [
             0.5,
             "#f7f7f7"
            ],
            [
             0.6,
             "#e6f5d0"
            ],
            [
             0.7,
             "#b8e186"
            ],
            [
             0.8,
             "#7fbc41"
            ],
            [
             0.9,
             "#4d9221"
            ],
            [
             1,
             "#276419"
            ]
           ],
           "sequential": [
            [
             0,
             "#0d0887"
            ],
            [
             0.1111111111111111,
             "#46039f"
            ],
            [
             0.2222222222222222,
             "#7201a8"
            ],
            [
             0.3333333333333333,
             "#9c179e"
            ],
            [
             0.4444444444444444,
             "#bd3786"
            ],
            [
             0.5555555555555556,
             "#d8576b"
            ],
            [
             0.6666666666666666,
             "#ed7953"
            ],
            [
             0.7777777777777778,
             "#fb9f3a"
            ],
            [
             0.8888888888888888,
             "#fdca26"
            ],
            [
             1,
             "#f0f921"
            ]
           ],
           "sequentialminus": [
            [
             0,
             "#0d0887"
            ],
            [
             0.1111111111111111,
             "#46039f"
            ],
            [
             0.2222222222222222,
             "#7201a8"
            ],
            [
             0.3333333333333333,
             "#9c179e"
            ],
            [
             0.4444444444444444,
             "#bd3786"
            ],
            [
             0.5555555555555556,
             "#d8576b"
            ],
            [
             0.6666666666666666,
             "#ed7953"
            ],
            [
             0.7777777777777778,
             "#fb9f3a"
            ],
            [
             0.8888888888888888,
             "#fdca26"
            ],
            [
             1,
             "#f0f921"
            ]
           ]
          },
          "colorway": [
           "#636efa",
           "#EF553B",
           "#00cc96",
           "#ab63fa",
           "#FFA15A",
           "#19d3f3",
           "#FF6692",
           "#B6E880",
           "#FF97FF",
           "#FECB52"
          ],
          "font": {
           "color": "#2a3f5f"
          },
          "geo": {
           "bgcolor": "white",
           "lakecolor": "white",
           "landcolor": "#E5ECF6",
           "showlakes": true,
           "showland": true,
           "subunitcolor": "white"
          },
          "hoverlabel": {
           "align": "left"
          },
          "hovermode": "closest",
          "mapbox": {
           "style": "light"
          },
          "paper_bgcolor": "white",
          "plot_bgcolor": "#E5ECF6",
          "polar": {
           "angularaxis": {
            "gridcolor": "white",
            "linecolor": "white",
            "ticks": ""
           },
           "bgcolor": "#E5ECF6",
           "radialaxis": {
            "gridcolor": "white",
            "linecolor": "white",
            "ticks": ""
           }
          },
          "scene": {
           "xaxis": {
            "backgroundcolor": "#E5ECF6",
            "gridcolor": "white",
            "gridwidth": 2,
            "linecolor": "white",
            "showbackground": true,
            "ticks": "",
            "zerolinecolor": "white"
           },
           "yaxis": {
            "backgroundcolor": "#E5ECF6",
            "gridcolor": "white",
            "gridwidth": 2,
            "linecolor": "white",
            "showbackground": true,
            "ticks": "",
            "zerolinecolor": "white"
           },
           "zaxis": {
            "backgroundcolor": "#E5ECF6",
            "gridcolor": "white",
            "gridwidth": 2,
            "linecolor": "white",
            "showbackground": true,
            "ticks": "",
            "zerolinecolor": "white"
           }
          },
          "shapedefaults": {
           "line": {
            "color": "#2a3f5f"
           }
          },
          "ternary": {
           "aaxis": {
            "gridcolor": "white",
            "linecolor": "white",
            "ticks": ""
           },
           "baxis": {
            "gridcolor": "white",
            "linecolor": "white",
            "ticks": ""
           },
           "bgcolor": "#E5ECF6",
           "caxis": {
            "gridcolor": "white",
            "linecolor": "white",
            "ticks": ""
           }
          },
          "title": {
           "x": 0.05
          },
          "xaxis": {
           "automargin": true,
           "gridcolor": "white",
           "linecolor": "white",
           "ticks": "",
           "title": {
            "standoff": 15
           },
           "zerolinecolor": "white",
           "zerolinewidth": 2
          },
          "yaxis": {
           "automargin": true,
           "gridcolor": "white",
           "linecolor": "white",
           "ticks": "",
           "title": {
            "standoff": 15
           },
           "zerolinecolor": "white",
           "zerolinewidth": 2
          }
         }
        }
       }
      },
      "text/html": [
       "<div>\n",
       "        \n",
       "        \n",
       "            <div id=\"851c507a-b87d-4615-aaeb-76822ad45232\" class=\"plotly-graph-div\" style=\"height:525px; width:100%;\"></div>\n",
       "            <script type=\"text/javascript\">\n",
       "                require([\"plotly\"], function(Plotly) {\n",
       "                    window.PLOTLYENV=window.PLOTLYENV || {};\n",
       "                    \n",
       "                if (document.getElementById(\"851c507a-b87d-4615-aaeb-76822ad45232\")) {\n",
       "                    Plotly.newPlot(\n",
       "                        '851c507a-b87d-4615-aaeb-76822ad45232',\n",
       "                        [{\"marker\": {\"color\": [1.0, 1.0, 1.0, 1.0, 1.0, 1.0, 1.0, 1.0, 1.0, 1.0, -1.0, -1.0, -1.0, -1.0, -1.0, -1.0, -1.0, -1.0, -1.0, -1.0, -1.0, -1.0, -1.0, -1.0, -1.0, -1.0, -1.0, -1.0, -1.0, -1.0, -1.0, -1.0, -1.0, -1.0, 1.0, 1.0, 1.0, 1.0, 1.0, -1.0, -1.0, -1.0, -1.0, -1.0, -1.0, -1.0, -1.0, -1.0, -1.0, -1.0, -1.0, -1.0, -1.0, -1.0, -1.0, -1.0, -1.0, -1.0, -1.0, -1.0, -1.0, -1.0, -1.0, -1.0, -1.0, -1.0, -1.0, -1.0, -1.0, -1.0, -1.0, -1.0, -1.0, -1.0, -1.0, -1.0, -1.0, -1.0, -1.0, -1.0, -1.0, -1.0, -1.0, -1.0, -1.0, -1.0, -1.0, -1.0, -1.0, -1.0, -1.0, 1.0, 1.0, 1.0, 1.0, 1.0, -1.0, 1.0, 1.0, 1.0, 1.0, 1.0, 1.0, 1.0, 1.0, 1.0, 1.0], \"size\": 5}, \"mode\": \"markers\", \"type\": \"scatter3d\", \"x\": [6.0, 51.0, 44.0, 76.0, 31.0, 52.0, 29.0, 206.0, 20.0, 14.0, 41.0, 70.0, 45.0, 35.0, 14.0, 75.0, 38.0, 5.0, 17.0, 39.0, 10.0, 81.0, 29.0, 72.0, 70.0, 64.0, 38.0, 40.0, 16.0, 175.0, 16.0, 51.0, 7.0, 48.0, 64.0, 52.0, 68.0, 28.0, 56.0, 51.0, 51.0, 243.0, 40.0, 20.0, 26.0, 28.0, 58.0, 74.0, 35.0, 4.0, 16.0, 38.0, 75.0, 6.0, 69.0, 80.0, 19.0, 35.0, 11.0, 42.0, 64.0, 15.0, 67.0, 48.0, 23.0, 34.0, 12.0, 7.0, 82.0, 65.0, 22.0, 44.0, 53.0, 91.0, 66.0, 56.0, 12.0, 52.0, 79.0, 52.0, 68.0, 92.0, 47.0, 50.0, 47.0, 96.0, 62.0, 40.0, 43.0, 37.0, 69.0, 208.0, 32.0, 83.0, 18.0, 26.0, 8.0, 28.0, 40.0, 41.0, 67.0, 62.0, 49.0, 55.0, 38.0, 51.0, 74.0], \"y\": [12.0, 59.0, 58.0, 247.0, 95.0, 237.0, 21.0, 545.0, 39.0, 11.0, 177.0, 121.0, 63.0, 48.0, 23.0, 69.0, 47.0, 5.0, 39.0, 39.0, 24.0, 114.0, 25.0, 73.0, 48.0, 87.0, 38.0, 41.0, 10.0, 646.0, 31.0, 90.0, 17.0, 35.0, 83.0, 69.0, 185.0, 13.0, 55.0, 55.0, 84.0, 152.0, 59.0, 19.0, 45.0, 70.0, 93.0, 156.0, 46.0, 45.0, 27.0, 75.0, 120.0, 26.0, 221.0, 93.0, 73.0, 71.0, 14.0, 50.0, 110.0, 9.0, 154.0, 35.0, 14.0, 38.0, 16.0, 10.0, 256.0, 122.0, 22.0, 138.0, 33.0, 260.0, 39.0, 97.0, 55.0, 193.0, 221.0, 62.0, 90.0, 192.0, 59.0, 97.0, 64.0, 288.0, 63.0, 90.0, 13.0, 218.0, 52.0, 275.0, 48.0, 121.0, 52.0, 43.0, 12.0, 60.0, 56.0, 116.0, 103.0, 31.0, 88.0, 63.0, 167.0, 200.0, 192.0], \"z\": [240.0, 1919.0, 1330.0, 1946.0, 1123.0, 1231.0, 476.0, 5467.0, 661.0, 424.0, 1884.0, 1339.0, 1050.0, 932.0, 422.0, 1901.0, 1487.0, 245.0, 579.0, 910.0, 235.0, 2649.0, 780.0, 1899.0, 1938.0, 2497.0, 1181.0, 1102.0, 487.0, 4884.0, 655.0, 1579.0, 258.0, 1002.0, 1603.0, 1306.0, 1216.0, 650.0, 1203.0, 1555.0, 1743.0, 5154.0, 1693.0, 637.0, 712.0, 1189.0, 1424.0, 1846.0, 1080.0, 262.0, 533.0, 1010.0, 1309.0, 419.0, 1634.0, 1593.0, 991.0, 1329.0, 461.0, 840.0, 1914.0, 462.0, 1676.0, 1726.0, 702.0, 1201.0, 406.0, 208.0, 1472.0, 1314.0, 772.0, 1256.0, 1212.0, 3397.0, 1738.0, 1386.0, 423.0, 1506.0, 1658.0, 872.0, 1248.0, 1758.0, 1392.0, 1889.0, 1348.0, 3583.0, 1574.0, 1590.0, 836.0, 951.0, 1619.0, 5741.0, 1338.0, 2145.0, 700.0, 699.0, 256.0, 973.0, 893.0, 1223.0, 1665.0, 1423.0, 1482.0, 1783.0, 1035.0, 1062.0, 1960.0]}],\n",
       "                        {\"template\": {\"data\": {\"bar\": [{\"error_x\": {\"color\": \"#2a3f5f\"}, \"error_y\": {\"color\": \"#2a3f5f\"}, \"marker\": {\"line\": {\"color\": \"#E5ECF6\", \"width\": 0.5}}, \"type\": \"bar\"}], \"barpolar\": [{\"marker\": {\"line\": {\"color\": \"#E5ECF6\", \"width\": 0.5}}, \"type\": \"barpolar\"}], \"carpet\": [{\"aaxis\": {\"endlinecolor\": \"#2a3f5f\", \"gridcolor\": \"white\", \"linecolor\": \"white\", \"minorgridcolor\": \"white\", \"startlinecolor\": \"#2a3f5f\"}, \"baxis\": {\"endlinecolor\": \"#2a3f5f\", \"gridcolor\": \"white\", \"linecolor\": \"white\", \"minorgridcolor\": \"white\", \"startlinecolor\": \"#2a3f5f\"}, \"type\": \"carpet\"}], \"choropleth\": [{\"colorbar\": {\"outlinewidth\": 0, \"ticks\": \"\"}, \"type\": \"choropleth\"}], \"contour\": [{\"colorbar\": {\"outlinewidth\": 0, \"ticks\": \"\"}, \"colorscale\": [[0.0, \"#0d0887\"], [0.1111111111111111, \"#46039f\"], [0.2222222222222222, \"#7201a8\"], [0.3333333333333333, \"#9c179e\"], [0.4444444444444444, \"#bd3786\"], [0.5555555555555556, \"#d8576b\"], [0.6666666666666666, \"#ed7953\"], [0.7777777777777778, \"#fb9f3a\"], [0.8888888888888888, \"#fdca26\"], [1.0, \"#f0f921\"]], \"type\": \"contour\"}], \"contourcarpet\": [{\"colorbar\": {\"outlinewidth\": 0, \"ticks\": \"\"}, \"type\": \"contourcarpet\"}], \"heatmap\": [{\"colorbar\": {\"outlinewidth\": 0, \"ticks\": \"\"}, \"colorscale\": [[0.0, \"#0d0887\"], [0.1111111111111111, \"#46039f\"], [0.2222222222222222, \"#7201a8\"], [0.3333333333333333, \"#9c179e\"], [0.4444444444444444, \"#bd3786\"], [0.5555555555555556, \"#d8576b\"], [0.6666666666666666, \"#ed7953\"], [0.7777777777777778, \"#fb9f3a\"], [0.8888888888888888, \"#fdca26\"], [1.0, \"#f0f921\"]], \"type\": \"heatmap\"}], \"heatmapgl\": [{\"colorbar\": {\"outlinewidth\": 0, \"ticks\": \"\"}, \"colorscale\": [[0.0, \"#0d0887\"], [0.1111111111111111, \"#46039f\"], [0.2222222222222222, \"#7201a8\"], [0.3333333333333333, \"#9c179e\"], [0.4444444444444444, \"#bd3786\"], [0.5555555555555556, \"#d8576b\"], [0.6666666666666666, \"#ed7953\"], [0.7777777777777778, \"#fb9f3a\"], [0.8888888888888888, \"#fdca26\"], [1.0, \"#f0f921\"]], \"type\": \"heatmapgl\"}], \"histogram\": [{\"marker\": {\"colorbar\": {\"outlinewidth\": 0, \"ticks\": \"\"}}, \"type\": \"histogram\"}], \"histogram2d\": [{\"colorbar\": {\"outlinewidth\": 0, \"ticks\": \"\"}, \"colorscale\": [[0.0, \"#0d0887\"], [0.1111111111111111, \"#46039f\"], [0.2222222222222222, \"#7201a8\"], [0.3333333333333333, \"#9c179e\"], [0.4444444444444444, \"#bd3786\"], [0.5555555555555556, \"#d8576b\"], [0.6666666666666666, \"#ed7953\"], [0.7777777777777778, \"#fb9f3a\"], [0.8888888888888888, \"#fdca26\"], [1.0, \"#f0f921\"]], \"type\": \"histogram2d\"}], \"histogram2dcontour\": [{\"colorbar\": {\"outlinewidth\": 0, \"ticks\": \"\"}, \"colorscale\": [[0.0, \"#0d0887\"], [0.1111111111111111, \"#46039f\"], [0.2222222222222222, \"#7201a8\"], [0.3333333333333333, \"#9c179e\"], [0.4444444444444444, \"#bd3786\"], [0.5555555555555556, \"#d8576b\"], [0.6666666666666666, \"#ed7953\"], [0.7777777777777778, \"#fb9f3a\"], [0.8888888888888888, \"#fdca26\"], [1.0, \"#f0f921\"]], \"type\": \"histogram2dcontour\"}], \"mesh3d\": [{\"colorbar\": {\"outlinewidth\": 0, \"ticks\": \"\"}, \"type\": \"mesh3d\"}], \"parcoords\": [{\"line\": {\"colorbar\": {\"outlinewidth\": 0, \"ticks\": \"\"}}, \"type\": \"parcoords\"}], \"pie\": [{\"automargin\": true, \"type\": \"pie\"}], \"scatter\": [{\"marker\": {\"colorbar\": {\"outlinewidth\": 0, \"ticks\": \"\"}}, \"type\": \"scatter\"}], \"scatter3d\": [{\"line\": {\"colorbar\": {\"outlinewidth\": 0, \"ticks\": \"\"}}, \"marker\": {\"colorbar\": {\"outlinewidth\": 0, \"ticks\": \"\"}}, \"type\": \"scatter3d\"}], \"scattercarpet\": [{\"marker\": {\"colorbar\": {\"outlinewidth\": 0, \"ticks\": \"\"}}, \"type\": \"scattercarpet\"}], \"scattergeo\": [{\"marker\": {\"colorbar\": {\"outlinewidth\": 0, \"ticks\": \"\"}}, \"type\": \"scattergeo\"}], \"scattergl\": [{\"marker\": {\"colorbar\": {\"outlinewidth\": 0, \"ticks\": \"\"}}, \"type\": \"scattergl\"}], \"scattermapbox\": [{\"marker\": {\"colorbar\": {\"outlinewidth\": 0, \"ticks\": \"\"}}, \"type\": \"scattermapbox\"}], \"scatterpolar\": [{\"marker\": {\"colorbar\": {\"outlinewidth\": 0, \"ticks\": \"\"}}, \"type\": \"scatterpolar\"}], \"scatterpolargl\": [{\"marker\": {\"colorbar\": {\"outlinewidth\": 0, \"ticks\": \"\"}}, \"type\": \"scatterpolargl\"}], \"scatterternary\": [{\"marker\": {\"colorbar\": {\"outlinewidth\": 0, \"ticks\": \"\"}}, \"type\": \"scatterternary\"}], \"surface\": [{\"colorbar\": {\"outlinewidth\": 0, \"ticks\": \"\"}, \"colorscale\": [[0.0, \"#0d0887\"], [0.1111111111111111, \"#46039f\"], [0.2222222222222222, \"#7201a8\"], [0.3333333333333333, \"#9c179e\"], [0.4444444444444444, \"#bd3786\"], [0.5555555555555556, \"#d8576b\"], [0.6666666666666666, \"#ed7953\"], [0.7777777777777778, \"#fb9f3a\"], [0.8888888888888888, \"#fdca26\"], [1.0, \"#f0f921\"]], \"type\": \"surface\"}], \"table\": [{\"cells\": {\"fill\": {\"color\": \"#EBF0F8\"}, \"line\": {\"color\": \"white\"}}, \"header\": {\"fill\": {\"color\": \"#C8D4E3\"}, \"line\": {\"color\": \"white\"}}, \"type\": \"table\"}]}, \"layout\": {\"annotationdefaults\": {\"arrowcolor\": \"#2a3f5f\", \"arrowhead\": 0, \"arrowwidth\": 1}, \"coloraxis\": {\"colorbar\": {\"outlinewidth\": 0, \"ticks\": \"\"}}, \"colorscale\": {\"diverging\": [[0, \"#8e0152\"], [0.1, \"#c51b7d\"], [0.2, \"#de77ae\"], [0.3, \"#f1b6da\"], [0.4, \"#fde0ef\"], [0.5, \"#f7f7f7\"], [0.6, \"#e6f5d0\"], [0.7, \"#b8e186\"], [0.8, \"#7fbc41\"], [0.9, \"#4d9221\"], [1, \"#276419\"]], \"sequential\": [[0.0, \"#0d0887\"], [0.1111111111111111, \"#46039f\"], [0.2222222222222222, \"#7201a8\"], [0.3333333333333333, \"#9c179e\"], [0.4444444444444444, \"#bd3786\"], [0.5555555555555556, \"#d8576b\"], [0.6666666666666666, \"#ed7953\"], [0.7777777777777778, \"#fb9f3a\"], [0.8888888888888888, \"#fdca26\"], [1.0, \"#f0f921\"]], \"sequentialminus\": [[0.0, \"#0d0887\"], [0.1111111111111111, \"#46039f\"], [0.2222222222222222, \"#7201a8\"], [0.3333333333333333, \"#9c179e\"], [0.4444444444444444, \"#bd3786\"], [0.5555555555555556, \"#d8576b\"], [0.6666666666666666, \"#ed7953\"], [0.7777777777777778, \"#fb9f3a\"], [0.8888888888888888, \"#fdca26\"], [1.0, \"#f0f921\"]]}, \"colorway\": [\"#636efa\", \"#EF553B\", \"#00cc96\", \"#ab63fa\", \"#FFA15A\", \"#19d3f3\", \"#FF6692\", \"#B6E880\", \"#FF97FF\", \"#FECB52\"], \"font\": {\"color\": \"#2a3f5f\"}, \"geo\": {\"bgcolor\": \"white\", \"lakecolor\": \"white\", \"landcolor\": \"#E5ECF6\", \"showlakes\": true, \"showland\": true, \"subunitcolor\": \"white\"}, \"hoverlabel\": {\"align\": \"left\"}, \"hovermode\": \"closest\", \"mapbox\": {\"style\": \"light\"}, \"paper_bgcolor\": \"white\", \"plot_bgcolor\": \"#E5ECF6\", \"polar\": {\"angularaxis\": {\"gridcolor\": \"white\", \"linecolor\": \"white\", \"ticks\": \"\"}, \"bgcolor\": \"#E5ECF6\", \"radialaxis\": {\"gridcolor\": \"white\", \"linecolor\": \"white\", \"ticks\": \"\"}}, \"scene\": {\"xaxis\": {\"backgroundcolor\": \"#E5ECF6\", \"gridcolor\": \"white\", \"gridwidth\": 2, \"linecolor\": \"white\", \"showbackground\": true, \"ticks\": \"\", \"zerolinecolor\": \"white\"}, \"yaxis\": {\"backgroundcolor\": \"#E5ECF6\", \"gridcolor\": \"white\", \"gridwidth\": 2, \"linecolor\": \"white\", \"showbackground\": true, \"ticks\": \"\", \"zerolinecolor\": \"white\"}, \"zaxis\": {\"backgroundcolor\": \"#E5ECF6\", \"gridcolor\": \"white\", \"gridwidth\": 2, \"linecolor\": \"white\", \"showbackground\": true, \"ticks\": \"\", \"zerolinecolor\": \"white\"}}, \"shapedefaults\": {\"line\": {\"color\": \"#2a3f5f\"}}, \"ternary\": {\"aaxis\": {\"gridcolor\": \"white\", \"linecolor\": \"white\", \"ticks\": \"\"}, \"baxis\": {\"gridcolor\": \"white\", \"linecolor\": \"white\", \"ticks\": \"\"}, \"bgcolor\": \"#E5ECF6\", \"caxis\": {\"gridcolor\": \"white\", \"linecolor\": \"white\", \"ticks\": \"\"}}, \"title\": {\"x\": 0.05}, \"xaxis\": {\"automargin\": true, \"gridcolor\": \"white\", \"linecolor\": \"white\", \"ticks\": \"\", \"title\": {\"standoff\": 15}, \"zerolinecolor\": \"white\", \"zerolinewidth\": 2}, \"yaxis\": {\"automargin\": true, \"gridcolor\": \"white\", \"linecolor\": \"white\", \"ticks\": \"\", \"title\": {\"standoff\": 15}, \"zerolinecolor\": \"white\", \"zerolinewidth\": 2}}}},\n",
       "                        {\"responsive\": true}\n",
       "                    ).then(function(){\n",
       "                            \n",
       "var gd = document.getElementById('851c507a-b87d-4615-aaeb-76822ad45232');\n",
       "var x = new MutationObserver(function (mutations, observer) {{\n",
       "        var display = window.getComputedStyle(gd).display;\n",
       "        if (!display || display === 'none') {{\n",
       "            console.log([gd, 'removed!']);\n",
       "            Plotly.purge(gd);\n",
       "            observer.disconnect();\n",
       "        }}\n",
       "}});\n",
       "\n",
       "// Listen for the removal of the full notebook cells\n",
       "var notebookContainer = gd.closest('#notebook-container');\n",
       "if (notebookContainer) {{\n",
       "    x.observe(notebookContainer, {childList: true});\n",
       "}}\n",
       "\n",
       "// Listen for the clearing of the current output cell\n",
       "var outputEl = gd.closest('.output');\n",
       "if (outputEl) {{\n",
       "    x.observe(outputEl, {childList: true});\n",
       "}}\n",
       "\n",
       "                        })\n",
       "                };\n",
       "                });\n",
       "            </script>\n",
       "        </div>"
      ]
     },
     "metadata": {},
     "output_type": "display_data"
    }
   ],
   "source": [
    "from sklearn.svm import OneClassSVM\n",
    "import plotly.offline as py\n",
    "import plotly.graph_objs as go\n",
    "py.init_notebook_mode(connected=True)\n",
    "\n",
    "one_svm = OneClassSVM(nu=0.1, kernel='rbf', random_state=2018)\n",
    "\n",
    "one_svm.fit(f)\n",
    "pre_test_outliers = one_svm.predict(f)\n",
    "\n",
    "total_test_data = np.hstack((f, pre_test_outliers.reshape(-1,1)))\n",
    "\n",
    "\n",
    "normal_test_data = total_test_data[total_test_data[:, -1] == 1]\n",
    "\n",
    "outlier_test_data = total_test_data[total_test_data[:, -1] == -1]\n",
    "\n",
    "print('Anomaly detection is：{}/{}'.format(len(outlier_test_data), len(total_test_data)))\n",
    "\n",
    "py.iplot([go.Scatter3d(x=total_test_data[:,0], y=total_test_data[:,1], z =total_test_data[:,2], \n",
    "                       mode='markers',marker=dict(color=total_test_data[:, -1], size=5))])\n",
    "\n"
   ]
  }
 ],
 "metadata": {
  "kernelspec": {
   "display_name": "Python 3",
   "language": "python",
   "name": "python3"
  },
  "language_info": {
   "codemirror_mode": {
    "name": "ipython",
    "version": 3
   },
   "file_extension": ".py",
   "mimetype": "text/x-python",
   "name": "python",
   "nbconvert_exporter": "python",
   "pygments_lexer": "ipython3",
   "version": "3.7.3"
  }
 },
 "nbformat": 4,
 "nbformat_minor": 2
}
